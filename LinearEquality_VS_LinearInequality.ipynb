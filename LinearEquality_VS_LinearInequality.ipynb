{
 "metadata": {
  "name": ""
 },
 "nbformat": 3,
 "nbformat_minor": 0,
 "worksheets": [
  {
   "cells": [
    {
     "cell_type": "markdown",
     "metadata": {},
     "source": [
      "# In Linear Equality:"
     ]
    },
    {
     "cell_type": "markdown",
     "metadata": {},
     "source": [
      "-   ## The basic object is Vector Space is a Line (1-dimensional subspace)\n",
      "-   ## Once you have a vector $\\vec{x} \\in V$, then $V$ must have the whole line (space containing $\\vec{x}$), i.e. $\\{\\alpha\\vec{x} | \\alpha \\in \\mathbb{R}\\} \\subseteq V$\n",
      "\n",
      "-   ## If we want to indentify whether a vector $\\vec{b}$ in the space $V$ ?\n",
      "    *   ### We must to choose one basis $\\{\\vec{x}_1,\\ldots,\\vec{x}_n\\}$ of $V$ \n",
      "    *   ### and solve the equation $\\sum_{i=1}^n \\alpha_i \\vec{x}_i = \\vec{b}$ , which can form as $A\\vec{x} = \\vec{b}$ \n"
     ]
    },
    {
     "cell_type": "markdown",
     "metadata": {},
     "source": [
      "## Solving $A\\vec{x} = \\vec{b}$: \n",
      "\n",
      "-  ## [1st step] Solving General Solution: $A\\vec{x}_g = \\vec{0}$: \n",
      "-  ## [2nd step] Solving Special Solution: $A\\vec{x}_s = \\vec{b}$: \n",
      "-  ## [final step] Get Solution: $\\vec{x} = \\vec{x}_g + \\vec{x}_s$\n"
     ]
    },
    {
     "cell_type": "markdown",
     "metadata": {},
     "source": [
      "# In Linear Inequality:"
     ]
    },
    {
     "cell_type": "markdown",
     "metadata": {},
     "source": [
      "-   ## The basic object is Convex Analysis is a Ray (1-dimensional convex cone)\n",
      "-   ## High Dimensional Sonvex Cone: \n",
      "## $$C = \\{ \\sum_{i=1}^n \\alpha_i \\vec{x}_i | \\vec{\\alpha} \\geq \\vec{0} \\}$$\n"
     ]
    },
    {
     "cell_type": "markdown",
     "metadata": {},
     "source": [
      "## Solving $A\\vec{x} \\geq \\vec{b}$: \n",
      "\n",
      "-  ## [1st step] Solving Linear Equality: $A\\vec{x}_{eq} = \\vec{b}$: \n",
      "-  ## [2nd step] Solving Linear Inequality: $A\\vec{x}_{in} \\geq \\vec{0} $ \n",
      "-  ## [final step] Get Solution: $\\vec{x} = \\vec{x}_{in} + \\vec{x}_{eq}$\n",
      "-  ## [Concept of Dual Cone] The dual cone of column space of $A$ is nothing but the vectors $\\vec{x}_{in}$ which satisfied the Linear Inequality: $A\\vec{x}_{in} \\geq \\vec{0} $  "
     ]
    },
    {
     "cell_type": "markdown",
     "metadata": {},
     "source": [
      "$$\\textbf{abcd} abcd$$"
     ]
    },
    {
     "cell_type": "code",
     "collapsed": false,
     "input": [],
     "language": "python",
     "metadata": {},
     "outputs": []
    }
   ],
   "metadata": {}
  }
 ]
}