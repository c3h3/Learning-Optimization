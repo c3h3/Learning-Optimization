{
 "metadata": {
  "name": ""
 },
 "nbformat": 3,
 "nbformat_minor": 0,
 "worksheets": [
  {
   "cells": [
    {
     "cell_type": "markdown",
     "metadata": {},
     "source": [
      "# Markowitz portfolio optimization"
     ]
    },
    {
     "cell_type": "markdown",
     "metadata": {},
     "source": [
      "# Definition:\n",
      "\n",
      "-  ## $i$: assets' index\n",
      "-  ## $x_i$: position of $i$-th asset ($x_i > 0$ means long / $x_i < 0$ means ahort)\n",
      "-  ## $q_i(t)$: price of $i$-th asset at time $t$\n",
      "-  ## $p_i = \\frac{q_i(t+1) - q_i(t)}{q_i(t)}$: relative price change of $i$-th asset\n",
      "-  ## $r = \\sum_i p_i x_i$ : the overall return"
     ]
    },
    {
     "cell_type": "markdown",
     "metadata": {},
     "source": [
      "# Constraints on the Portfolio:\n",
      "\n",
      "-  ## [no short positions] $x_i > 0 \\ \\ \\forall i$ \n",
      "-  ## [total budget] $\\sum_i x_i = B$ \n",
      "-  ## $q_i(t)$: price of $i$-th asset at time $t$\n",
      "-  ## $p_i = \\frac{q_i(t+1) - q_i(t)}{q_i(t)}$: relative price change of $i$-th asset\n",
      "-  ## $r = \\sum_i p_i x_i$ : the overall return\n"
     ]
    },
    {
     "cell_type": "markdown",
     "metadata": {},
     "source": [
      "# Stochastic Model for Price Changes:\n",
      "\n",
      "-  ## $ p = [p_1,\\ldots,p_n]^T \\in \\mathbb{R}^n$ is a random vector with mean $\\bar{p} \\in \\mathbb{R}^n$ and covariance $\\Sigma \\in \\mathbb{R}^{n \\times n}$\n",
      "-  ## With portfolio $x = [x_1,\\ldots,x_n]^T \\in \\mathbb{R}^n$, THE RETURN $r = \\sum_i p_i x_i$ is a random variable with mean $p^Tx$ and variance $x^T\\Sigma x$\n",
      "-  ## $x^T\\Sigma x$ is associate the risk of the portfolio\n"
     ]
    },
    {
     "cell_type": "markdown",
     "metadata": {},
     "source": [
      "# Markowitz Portfolio Optimization:\n",
      "\n",
      "## $$ \\begin{eqnarray} \\min_{x} & &x^T\\Sigma x \\\\ & &\\bar{p}^T x \\geq r_{\\min} \\\\  & &1^T x = 1 \\\\   & &x \\geq 0 \\\\ \\end{eqnarray}$$"
     ]
    },
    {
     "cell_type": "markdown",
     "metadata": {},
     "source": [
      "# Markowitz Portfolio Optimization:\n",
      "\n",
      "- ## minimize risk of the portfolio subject to achieving a minimum acceptable mean return $r_{\\min}$, and satisfying the portfolio budget and no-shorting constraints.\n",
      "\n",
      "\n",
      "## $$ \\begin{eqnarray} \\min_{x_1,\\ldots,x_n} & &\\sum_{i=1}^n\\sum_{j=1}^n x_i\\sigma_{ij} x_j \\\\ & &\\sum_{i=1}^n\\bar{p_i}x_i \\geq r_{\\min} \\\\  & &\\sum_{i=1}^n\\ x_i = 1 \\\\  \\forall i &  & x_i\\geq 0 \\\\ \\end{eqnarray}$$"
     ]
    },
    {
     "cell_type": "code",
     "collapsed": false,
     "input": [],
     "language": "python",
     "metadata": {},
     "outputs": []
    },
    {
     "cell_type": "code",
     "collapsed": false,
     "input": [],
     "language": "python",
     "metadata": {},
     "outputs": []
    },
    {
     "cell_type": "code",
     "collapsed": false,
     "input": [],
     "language": "python",
     "metadata": {},
     "outputs": []
    },
    {
     "cell_type": "code",
     "collapsed": false,
     "input": [
      "%matplotlib inline"
     ],
     "language": "python",
     "metadata": {},
     "outputs": [],
     "prompt_number": 1
    },
    {
     "cell_type": "code",
     "collapsed": false,
     "input": [
      "import matplotlib.pylab as pylab\n",
      "pylab.rcParams['figure.figsize'] = 16, 12"
     ],
     "language": "python",
     "metadata": {},
     "outputs": [],
     "prompt_number": 2
    },
    {
     "cell_type": "code",
     "collapsed": false,
     "input": [
      "import scipy.io\n",
      "problem_data_mat = scipy.io.loadmat('simple_protfolia_matlab_gen_data.mat')\n",
      "problem_data_mat.keys()"
     ],
     "language": "python",
     "metadata": {},
     "outputs": [
      {
       "metadata": {},
       "output_type": "pyout",
       "prompt_number": 3,
       "text": [
        "['__globals__', '__header__', 'n', 'S', 'pbar', 'x_unif', '__version__']"
       ]
      }
     ],
     "prompt_number": 3
    },
    {
     "cell_type": "code",
     "collapsed": false,
     "input": [
      "n_mat = problem_data_mat[\"n\"][0][0]\n",
      "S_mat = problem_data_mat[\"S\"]\n",
      "pbar_mat = problem_data_mat[\"pbar\"]\n",
      "x_unif_mat = problem_data_mat[\"x_unif\"]\n"
     ],
     "language": "python",
     "metadata": {},
     "outputs": [],
     "prompt_number": 38
    },
    {
     "cell_type": "code",
     "collapsed": false,
     "input": [
      "from cvxopt import matrix\n",
      "\n",
      "n = n_mat\n",
      "S = matrix(S_mat.tolist())\n",
      "pbar = matrix(pbar_mat.tolist())\n",
      "x_unif = matrix(x_unif_mat.tolist())\n",
      "\n",
      "S,pbar,x_unif"
     ],
     "language": "python",
     "metadata": {},
     "outputs": [
      {
       "metadata": {},
       "output_type": "pyout",
       "prompt_number": 43,
       "text": [
        "(<20x20 matrix, tc='d'>, <1x20 matrix, tc='d'>, <1x20 matrix, tc='d'>)"
       ]
      }
     ],
     "prompt_number": 43
    },
    {
     "cell_type": "code",
     "collapsed": false,
     "input": [
      "from cvxopt.blas import dot\n",
      "\n",
      "uni_risk_sq = (x_unif*S*x_unif.T)[0]\n",
      "print \"uni_risk_sq = \",uni_risk_sq\n",
      "\n",
      "uni_risk = uni_risk_sq**0.5\n",
      "print \"uni_risk = \",uni_risk"
     ],
     "language": "python",
     "metadata": {},
     "outputs": [
      {
       "output_type": "stream",
       "stream": "stdout",
       "text": [
        "uni_risk_sq =  0.00757525788251\n",
        "uni_risk =  0.0870359574113\n"
       ]
      }
     ],
     "prompt_number": 50
    },
    {
     "cell_type": "markdown",
     "metadata": {},
     "source": [
      "## Attention the risk is the standard deviation, i.e. the square root of variance "
     ]
    },
    {
     "cell_type": "code",
     "collapsed": false,
     "input": [
      "G = matrix(0.0, (n,n))\n",
      "G[::n+1] = -1.0\n",
      "print G"
     ],
     "language": "python",
     "metadata": {},
     "outputs": [
      {
       "output_type": "stream",
       "stream": "stdout",
       "text": [
        "[-1.00e+00  0.00e+00  0.00e+00  0.00e+00  0.00e+00  0.00e+00  0.00e+00 ... ]\n",
        "[ 0.00e+00 -1.00e+00  0.00e+00  0.00e+00  0.00e+00  0.00e+00  0.00e+00 ... ]\n",
        "[ 0.00e+00  0.00e+00 -1.00e+00  0.00e+00  0.00e+00  0.00e+00  0.00e+00 ... ]\n",
        "[ 0.00e+00  0.00e+00  0.00e+00 -1.00e+00  0.00e+00  0.00e+00  0.00e+00 ... ]\n",
        "[ 0.00e+00  0.00e+00  0.00e+00  0.00e+00 -1.00e+00  0.00e+00  0.00e+00 ... ]\n",
        "[ 0.00e+00  0.00e+00  0.00e+00  0.00e+00  0.00e+00 -1.00e+00  0.00e+00 ... ]\n",
        "[ 0.00e+00  0.00e+00  0.00e+00  0.00e+00  0.00e+00  0.00e+00 -1.00e+00 ... ]\n",
        "[ 0.00e+00  0.00e+00  0.00e+00  0.00e+00  0.00e+00  0.00e+00  0.00e+00 ... ]\n",
        "[ 0.00e+00  0.00e+00  0.00e+00  0.00e+00  0.00e+00  0.00e+00  0.00e+00 ... ]\n",
        "[ 0.00e+00  0.00e+00  0.00e+00  0.00e+00  0.00e+00  0.00e+00  0.00e+00 ... ]\n",
        "[ 0.00e+00  0.00e+00  0.00e+00  0.00e+00  0.00e+00  0.00e+00  0.00e+00 ... ]\n",
        "[ 0.00e+00  0.00e+00  0.00e+00  0.00e+00  0.00e+00  0.00e+00  0.00e+00 ... ]\n",
        "[ 0.00e+00  0.00e+00  0.00e+00  0.00e+00  0.00e+00  0.00e+00  0.00e+00 ... ]\n",
        "[ 0.00e+00  0.00e+00  0.00e+00  0.00e+00  0.00e+00  0.00e+00  0.00e+00 ... ]\n",
        "[ 0.00e+00  0.00e+00  0.00e+00  0.00e+00  0.00e+00  0.00e+00  0.00e+00 ... ]\n",
        "[ 0.00e+00  0.00e+00  0.00e+00  0.00e+00  0.00e+00  0.00e+00  0.00e+00 ... ]\n",
        "[ 0.00e+00  0.00e+00  0.00e+00  0.00e+00  0.00e+00  0.00e+00  0.00e+00 ... ]\n",
        "[ 0.00e+00  0.00e+00  0.00e+00  0.00e+00  0.00e+00  0.00e+00  0.00e+00 ... ]\n",
        "[ 0.00e+00  0.00e+00  0.00e+00  0.00e+00  0.00e+00  0.00e+00  0.00e+00 ... ]\n",
        "[ 0.00e+00  0.00e+00  0.00e+00  0.00e+00  0.00e+00  0.00e+00  0.00e+00 ... ]\n",
        "\n"
       ]
      }
     ],
     "prompt_number": 63
    },
    {
     "cell_type": "code",
     "collapsed": false,
     "input": [
      "h = matrix(0.0, (n,1))\n",
      "print h"
     ],
     "language": "python",
     "metadata": {},
     "outputs": [
      {
       "output_type": "stream",
       "stream": "stdout",
       "text": [
        "[ 0.00e+00]\n",
        "[ 0.00e+00]\n",
        "[ 0.00e+00]\n",
        "[ 0.00e+00]\n",
        "[ 0.00e+00]\n",
        "[ 0.00e+00]\n",
        "[ 0.00e+00]\n",
        "[ 0.00e+00]\n",
        "[ 0.00e+00]\n",
        "[ 0.00e+00]\n",
        "[ 0.00e+00]\n",
        "[ 0.00e+00]\n",
        "[ 0.00e+00]\n",
        "[ 0.00e+00]\n",
        "[ 0.00e+00]\n",
        "[ 0.00e+00]\n",
        "[ 0.00e+00]\n",
        "[ 0.00e+00]\n",
        "[ 0.00e+00]\n",
        "[ 0.00e+00]\n",
        "\n"
       ]
      }
     ],
     "prompt_number": 60
    },
    {
     "cell_type": "code",
     "collapsed": false,
     "input": [
      "A = matrix([pbar,matrix(1.0, (1,n))])\n",
      "print A"
     ],
     "language": "python",
     "metadata": {},
     "outputs": [
      {
       "output_type": "stream",
       "stream": "stdout",
       "text": [
        "[ 1.34e-01  1.39e-01  5.40e-02  1.33e-01  1.26e-01  7.06e-02  1.18e-01 ... ]\n",
        "[ 1.00e+00  1.00e+00  1.00e+00  1.00e+00  1.00e+00  1.00e+00  1.00e+00 ... ]\n",
        "\n"
       ]
      }
     ],
     "prompt_number": 64
    },
    {
     "cell_type": "code",
     "collapsed": false,
     "input": [
      "b = matrix([uni_risk,1.0])\n",
      "print b"
     ],
     "language": "python",
     "metadata": {},
     "outputs": [
      {
       "output_type": "stream",
       "stream": "stdout",
       "text": [
        "[ 8.70e-02]\n",
        "[ 1.00e+00]\n",
        "\n"
       ]
      }
     ],
     "prompt_number": 66
    },
    {
     "cell_type": "code",
     "collapsed": false,
     "input": [
      "print S"
     ],
     "language": "python",
     "metadata": {},
     "outputs": [
      {
       "output_type": "stream",
       "stream": "stdout",
       "text": [
        "[ 6.61e-02 -6.51e-03  1.43e-02  4.81e-03 -3.66e-03  7.77e-03 -4.57e-03 ... ]\n",
        "[-6.51e-03  9.75e-02  2.26e-02 -2.59e-02 -2.15e-02 -6.00e-03  3.76e-02 ... ]\n",
        "[ 1.43e-02  2.26e-02  2.00e-01  3.33e-02  1.54e-02  4.82e-04  2.11e-02 ... ]\n",
        "[ 4.81e-03 -2.59e-02  3.33e-02  9.66e-02  5.11e-02  1.14e-02 -5.30e-02 ... ]\n",
        "[-3.66e-03 -2.15e-02  1.54e-02  5.11e-02  8.51e-02  1.50e-02 -7.34e-03 ... ]\n",
        "[ 7.77e-03 -6.00e-03  4.82e-04  1.14e-02  1.50e-02  9.21e-02  3.82e-04 ... ]\n",
        "[-4.57e-03  3.76e-02  2.11e-02 -5.30e-02 -7.34e-03  3.82e-04  1.96e-01 ... ]\n",
        "[-1.62e-02  4.02e-02 -3.14e-03 -2.74e-02 -2.26e-02  8.17e-03  5.36e-02 ... ]\n",
        "[ 5.82e-03 -3.89e-02 -5.91e-02  2.84e-03 -1.51e-02 -2.37e-02 -5.66e-02 ... ]\n",
        "[-1.24e-02 -2.01e-03 -8.45e-03 -6.02e-03 -1.92e-03 -2.78e-02 -2.32e-03 ... ]\n",
        "[ 4.15e-03 -9.74e-03 -2.98e-02  5.10e-03 -7.50e-03  2.43e-02 -7.38e-03 ... ]\n",
        "[ 5.98e-03 -4.53e-02  7.18e-05  1.78e-02 -3.44e-02 -3.23e-02 -6.33e-02 ... ]\n",
        "[ 1.66e-02  1.59e-02  2.74e-02  1.70e-02  1.58e-02  1.21e-02  2.95e-02 ... ]\n",
        "[ 2.21e-02 -1.33e-02 -1.41e-03  2.59e-02  8.42e-03 -2.06e-02 -1.81e-02 ... ]\n",
        "[-1.14e-03  4.58e-02 -7.36e-03 -4.61e-02 -3.19e-02  2.17e-02  2.40e-02 ... ]\n",
        "[ 5.85e-03 -9.41e-03  1.26e-02  2.96e-02  6.72e-03 -3.08e-02 -3.26e-02 ... ]\n",
        "[ 1.19e-02  1.84e-02  3.63e-02  2.13e-02  2.13e-02  1.05e-02  1.67e-02 ... ]\n",
        "[-1.28e-02  2.25e-02  5.09e-02  1.67e-02  3.59e-02 -1.35e-02  2.28e-02 ... ]\n",
        "[ 5.24e-02 -3.46e-02  4.52e-02  5.51e-03  7.49e-03 -5.16e-02 -5.94e-03 ... ]\n",
        "[ 0.00e+00  0.00e+00  0.00e+00  0.00e+00  0.00e+00  0.00e+00  0.00e+00 ... ]\n",
        "\n"
       ]
      }
     ],
     "prompt_number": 68
    },
    {
     "cell_type": "code",
     "collapsed": false,
     "input": [
      "q = matrix(0.0, (n,1))\n",
      "print q"
     ],
     "language": "python",
     "metadata": {},
     "outputs": [
      {
       "output_type": "stream",
       "stream": "stdout",
       "text": [
        "[ 0.00e+00]\n",
        "[ 0.00e+00]\n",
        "[ 0.00e+00]\n",
        "[ 0.00e+00]\n",
        "[ 0.00e+00]\n",
        "[ 0.00e+00]\n",
        "[ 0.00e+00]\n",
        "[ 0.00e+00]\n",
        "[ 0.00e+00]\n",
        "[ 0.00e+00]\n",
        "[ 0.00e+00]\n",
        "[ 0.00e+00]\n",
        "[ 0.00e+00]\n",
        "[ 0.00e+00]\n",
        "[ 0.00e+00]\n",
        "[ 0.00e+00]\n",
        "[ 0.00e+00]\n",
        "[ 0.00e+00]\n",
        "[ 0.00e+00]\n",
        "[ 0.00e+00]\n",
        "\n"
       ]
      }
     ],
     "prompt_number": 69
    },
    {
     "cell_type": "code",
     "collapsed": false,
     "input": [
      "from cvxopt import solvers"
     ],
     "language": "python",
     "metadata": {},
     "outputs": [],
     "prompt_number": 67
    },
    {
     "cell_type": "code",
     "collapsed": false,
     "input": [
      "sol = solvers.qp(S,q, G, h, A, b)\n",
      "sol_x = sol[\"x\"]\n",
      "print sol_x"
     ],
     "language": "python",
     "metadata": {},
     "outputs": [
      {
       "output_type": "stream",
       "stream": "stdout",
       "text": [
        "     pcost       dcost       gap    pres   dres\n",
        " 0:  3.3502e-03 -1.0297e+00  1e+00  5e-17  5e+00\n",
        " 1:  3.2942e-03 -1.5142e-02  2e-02  1e-16  9e-02\n",
        " 2:  2.0260e-03 -1.7148e-03  4e-03  1e-16  1e-02\n",
        " 3:  1.1035e-03  5.0592e-04  6e-04  6e-16  1e-17\n",
        " 4:  9.1412e-04  8.0518e-04  1e-04  2e-16  5e-18\n",
        " 5:  8.7668e-04  8.7158e-04  5e-06  6e-17  8e-18\n",
        " 6:  8.7444e-04  8.7438e-04  7e-08  1e-16  8e-18\n",
        "Optimal solution found.\n",
        "[ 1.96e-07]\n",
        "[ 1.09e-01]\n",
        "[ 6.49e-06]\n",
        "[ 7.66e-06]\n",
        "[ 7.07e-02]\n",
        "[ 9.79e-02]\n",
        "[ 4.01e-02]\n",
        "[ 1.32e-02]\n",
        "[ 9.90e-02]\n",
        "[ 1.20e-02]\n",
        "[ 5.97e-07]\n",
        "[ 4.64e-02]\n",
        "[ 5.43e-02]\n",
        "[ 5.24e-02]\n",
        "[ 1.60e-02]\n",
        "[ 5.19e-02]\n",
        "[ 4.94e-07]\n",
        "[ 2.11e-06]\n",
        "[ 4.74e-02]\n",
        "[ 2.90e-01]\n",
        "\n"
       ]
      }
     ],
     "prompt_number": 74
    },
    {
     "cell_type": "code",
     "collapsed": false,
     "input": [],
     "language": "python",
     "metadata": {},
     "outputs": [],
     "prompt_number": 77
    },
    {
     "cell_type": "code",
     "collapsed": false,
     "input": [
      "risk_sq = (sol_x.T*S*sol_x)[0]\n",
      "print \"risk_sq = \",risk_sq\n",
      "\n",
      "risk = risk_sq**0.5\n",
      "print \"risk = \",risk"
     ],
     "language": "python",
     "metadata": {},
     "outputs": [
      {
       "output_type": "stream",
       "stream": "stdout",
       "text": [
        "risk_sq =  0.00174888549393\n",
        "risk =  0.0418196783098\n"
       ]
      }
     ],
     "prompt_number": 77
    },
    {
     "cell_type": "code",
     "collapsed": false,
     "input": [],
     "language": "python",
     "metadata": {},
     "outputs": []
    },
    {
     "cell_type": "markdown",
     "metadata": {},
     "source": [
      "# Free Constraints:"
     ]
    },
    {
     "cell_type": "code",
     "collapsed": false,
     "input": [
      "G = matrix(0.0, (n,n))\n",
      "print G"
     ],
     "language": "python",
     "metadata": {},
     "outputs": [
      {
       "output_type": "stream",
       "stream": "stdout",
       "text": [
        "[ 0.00e+00  0.00e+00  0.00e+00  0.00e+00  0.00e+00  0.00e+00  0.00e+00 ... ]\n",
        "[ 0.00e+00  0.00e+00  0.00e+00  0.00e+00  0.00e+00  0.00e+00  0.00e+00 ... ]\n",
        "[ 0.00e+00  0.00e+00  0.00e+00  0.00e+00  0.00e+00  0.00e+00  0.00e+00 ... ]\n",
        "[ 0.00e+00  0.00e+00  0.00e+00  0.00e+00  0.00e+00  0.00e+00  0.00e+00 ... ]\n",
        "[ 0.00e+00  0.00e+00  0.00e+00  0.00e+00  0.00e+00  0.00e+00  0.00e+00 ... ]\n",
        "[ 0.00e+00  0.00e+00  0.00e+00  0.00e+00  0.00e+00  0.00e+00  0.00e+00 ... ]\n",
        "[ 0.00e+00  0.00e+00  0.00e+00  0.00e+00  0.00e+00  0.00e+00  0.00e+00 ... ]\n",
        "[ 0.00e+00  0.00e+00  0.00e+00  0.00e+00  0.00e+00  0.00e+00  0.00e+00 ... ]\n",
        "[ 0.00e+00  0.00e+00  0.00e+00  0.00e+00  0.00e+00  0.00e+00  0.00e+00 ... ]\n",
        "[ 0.00e+00  0.00e+00  0.00e+00  0.00e+00  0.00e+00  0.00e+00  0.00e+00 ... ]\n",
        "[ 0.00e+00  0.00e+00  0.00e+00  0.00e+00  0.00e+00  0.00e+00  0.00e+00 ... ]\n",
        "[ 0.00e+00  0.00e+00  0.00e+00  0.00e+00  0.00e+00  0.00e+00  0.00e+00 ... ]\n",
        "[ 0.00e+00  0.00e+00  0.00e+00  0.00e+00  0.00e+00  0.00e+00  0.00e+00 ... ]\n",
        "[ 0.00e+00  0.00e+00  0.00e+00  0.00e+00  0.00e+00  0.00e+00  0.00e+00 ... ]\n",
        "[ 0.00e+00  0.00e+00  0.00e+00  0.00e+00  0.00e+00  0.00e+00  0.00e+00 ... ]\n",
        "[ 0.00e+00  0.00e+00  0.00e+00  0.00e+00  0.00e+00  0.00e+00  0.00e+00 ... ]\n",
        "[ 0.00e+00  0.00e+00  0.00e+00  0.00e+00  0.00e+00  0.00e+00  0.00e+00 ... ]\n",
        "[ 0.00e+00  0.00e+00  0.00e+00  0.00e+00  0.00e+00  0.00e+00  0.00e+00 ... ]\n",
        "[ 0.00e+00  0.00e+00  0.00e+00  0.00e+00  0.00e+00  0.00e+00  0.00e+00 ... ]\n",
        "[ 0.00e+00  0.00e+00  0.00e+00  0.00e+00  0.00e+00  0.00e+00  0.00e+00 ... ]\n",
        "\n"
       ]
      }
     ],
     "prompt_number": 80
    },
    {
     "cell_type": "code",
     "collapsed": false,
     "input": [
      "sol = solvers.qp(S,q, G, h, A, b)\n",
      "sol_x = sol[\"x\"]\n",
      "print sol_x"
     ],
     "language": "python",
     "metadata": {},
     "outputs": [
      {
       "output_type": "stream",
       "stream": "stdout",
       "text": [
        "     pcost       dcost       gap    pres   dres\n",
        " 0:  1.1797e-04  1.1797e-04  2e+01  4e+00  8e-16\n",
        " 1:  1.1797e-04  1.1797e-04  2e-01  4e-02  2e-17\n",
        " 2:  1.1797e-04  1.1797e-04  2e-03  4e-04  1e-17\n",
        " 3:  1.1797e-04  1.1797e-04  2e-05  4e-06  1e-17\n",
        " 4:  1.1797e-04  1.1797e-04  2e-07  4e-08  1e-17\n",
        " 5:  1.1797e-04  1.1797e-04  2e-09  4e-10  8e-18\n",
        "Optimal solution found.\n",
        "[-1.68e-01]\n",
        "[ 1.54e-01]\n",
        "[ 2.46e-02]\n",
        "[-7.62e-02]\n",
        "[ 4.66e-02]\n",
        "[ 2.04e-01]\n",
        "[ 1.84e-02]\n",
        "[-2.18e-03]\n",
        "[ 2.21e-01]\n",
        "[ 2.39e-03]\n",
        "[-8.58e-02]\n",
        "[ 6.38e-02]\n",
        "[ 2.50e-01]\n",
        "[ 1.41e-01]\n",
        "[-5.43e-02]\n",
        "[-3.86e-02]\n",
        "[-1.62e-01]\n",
        "[ 1.92e-02]\n",
        "[ 9.51e-02]\n",
        "[ 3.48e-01]\n",
        "\n"
       ]
      }
     ],
     "prompt_number": 81
    },
    {
     "cell_type": "code",
     "collapsed": false,
     "input": [
      "risk_sq = (sol_x.T*S*sol_x)[0]\n",
      "print \"risk_sq = \",risk_sq\n",
      "\n",
      "risk = risk_sq**0.5\n",
      "print \"risk = \",risk"
     ],
     "language": "python",
     "metadata": {},
     "outputs": [
      {
       "output_type": "stream",
       "stream": "stdout",
       "text": [
        "risk_sq =  0.000235943548388\n",
        "risk =  0.0153604540424\n"
       ]
      }
     ],
     "prompt_number": 82
    },
    {
     "cell_type": "code",
     "collapsed": false,
     "input": [],
     "language": "python",
     "metadata": {},
     "outputs": []
    }
   ],
   "metadata": {}
  }
 ]
}