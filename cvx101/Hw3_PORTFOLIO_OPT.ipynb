{
 "metadata": {
  "name": ""
 },
 "nbformat": 3,
 "nbformat_minor": 0,
 "worksheets": [
  {
   "cells": [
    {
     "cell_type": "markdown",
     "metadata": {},
     "source": [
      "# Markowitz portfolio optimization"
     ]
    },
    {
     "cell_type": "markdown",
     "metadata": {},
     "source": [
      "# Definition:\n",
      "\n",
      "-  ## $i$: assets' index\n",
      "-  ## $x_i$: position of $i$-th asset ($x_i > 0$ means long / $x_i < 0$ means ahort)\n",
      "-  ## $q_i(t)$: price of $i$-th asset at time $t$\n",
      "-  ## $p_i = \\frac{q_i(t+1) - q_i(t)}{q_i(t)}$: relative price change of $i$-th asset\n",
      "-  ## $r = \\sum_i p_i x_i$ : the overall return"
     ]
    },
    {
     "cell_type": "markdown",
     "metadata": {},
     "source": [
      "# Constraints on the Portfolio:\n",
      "\n",
      "-  ## [no short positions] $x_i > 0 \\ \\ \\forall i$ \n",
      "-  ## [total budget] $\\sum_i x_i = B$ \n",
      "-  ## $q_i(t)$: price of $i$-th asset at time $t$\n",
      "-  ## $p_i = \\frac{q_i(t+1) - q_i(t)}{q_i(t)}$: relative price change of $i$-th asset\n",
      "-  ## $r = \\sum_i p_i x_i$ : the overall return\n"
     ]
    },
    {
     "cell_type": "markdown",
     "metadata": {},
     "source": [
      "# Stochastic Model for Price Changes:\n",
      "\n",
      "-  ## $ p = [p_1,\\ldots,p_n]^T \\in \\mathbb{R}^n$ is a random vector with mean $\\bar{p} \\in \\mathbb{R}^n$ and covariance $\\Sigma \\in \\mathbb{R}^{n \\times n}$\n",
      "-  ## With portfolio $x = [x_1,\\ldots,x_n]^T \\in \\mathbb{R}^n$, THE RETURN $r = \\sum_i p_i x_i$ is a random variable with mean $p^Tx$ and variance $x^T\\Sigma x$\n",
      "-  ## $x^T\\Sigma x$ is associate the risk of the portfolio\n"
     ]
    },
    {
     "cell_type": "markdown",
     "metadata": {},
     "source": [
      "# Markowitz Portfolio Optimization:\n",
      "\n",
      "## $$ \\begin{eqnarray} \\min_{x} & &x^T\\Sigma x \\\\ & &\\bar{p}^T x \\geq r_{\\min} \\\\  & &1^T x = 1 \\\\   & &x \\geq 0 \\\\ \\end{eqnarray}$$"
     ]
    },
    {
     "cell_type": "markdown",
     "metadata": {},
     "source": [
      "# Markowitz Portfolio Optimization:\n",
      "\n",
      "- ## minimize risk of the portfolio subject to achieving a minimum acceptable mean return $r_{\\min}$, and satisfying the portfolio budget and no-shorting constraints.\n",
      "\n",
      "\n",
      "## $$ \\begin{eqnarray} \\min_{x_1,\\ldots,x_n} & &\\sum_{i=1}^n\\sum_{j=1}^n x_i\\sigma_{ij} x_j \\\\ & &\\sum_{i=1}^n\\bar{p_i}x_i \\geq r_{\\min} \\\\  & &\\sum_{i=1}^n\\ x_i = 1 \\\\  \\forall i &  & x_i\\geq 0 \\\\ \\end{eqnarray}$$"
     ]
    },
    {
     "cell_type": "code",
     "collapsed": false,
     "input": [],
     "language": "python",
     "metadata": {},
     "outputs": [],
     "prompt_number": 0
    },
    {
     "cell_type": "code",
     "collapsed": false,
     "input": [],
     "language": "python",
     "metadata": {},
     "outputs": [],
     "prompt_number": 0
    },
    {
     "cell_type": "markdown",
     "metadata": {},
     "source": [
      "# Homework (2):\n",
      "\n",
      "## with the same expected return as the uniform portfolio\n",
      "\n",
      "## $$ \\begin{eqnarray} \\min_{x_1,\\ldots,x_{20}} & &\\sum_{i=1}^{20}\\sum_{j=1}^{20} x_i\\sigma_{ij} x_j \\\\ & &\\sum_{i=1}^{20} \\bar{p_i}x_i = \\sum_{i=1}^{20} \\frac{\\bar{p_i}}{20} \\\\  & &\\sum_{i=1}^{20}\\ x_i = 1 \\\\  \\forall i &  & x_i\\geq 0 \\\\ \\end{eqnarray}$$"
     ]
    },
    {
     "cell_type": "code",
     "collapsed": false,
     "input": [
      "%matplotlib inline"
     ],
     "language": "python",
     "metadata": {},
     "outputs": [],
     "prompt_number": 1
    },
    {
     "cell_type": "code",
     "collapsed": false,
     "input": [
      "import matplotlib.pylab as pylab\n",
      "pylab.rcParams['figure.figsize'] = 16, 12"
     ],
     "language": "python",
     "metadata": {},
     "outputs": [],
     "prompt_number": 2
    },
    {
     "cell_type": "code",
     "collapsed": false,
     "input": [
      "import scipy.io\n",
      "problem_data_mat = scipy.io.loadmat('simple_protfolia_matlab_gen_data.mat')\n",
      "problem_data_mat.keys()"
     ],
     "language": "python",
     "metadata": {},
     "outputs": [
      {
       "metadata": {},
       "output_type": "pyout",
       "prompt_number": 3,
       "text": [
        "['__globals__', '__header__', 'n', 'S', 'pbar', 'x_unif', '__version__']"
       ]
      }
     ],
     "prompt_number": 3
    },
    {
     "cell_type": "code",
     "collapsed": false,
     "input": [
      "n_mat = problem_data_mat[\"n\"][0][0]\n",
      "S_mat = problem_data_mat[\"S\"]\n",
      "pbar_mat = problem_data_mat[\"pbar\"]\n",
      "x_unif_mat = problem_data_mat[\"x_unif\"]\n"
     ],
     "language": "python",
     "metadata": {},
     "outputs": [],
     "prompt_number": 4
    },
    {
     "cell_type": "code",
     "collapsed": false,
     "input": [
      "from cvxopt import matrix\n",
      "\n",
      "n = n_mat\n",
      "S = matrix(S_mat.tolist())\n",
      "pbar = matrix(pbar_mat.tolist())\n",
      "x_unif = matrix(x_unif_mat.tolist())\n",
      "\n",
      "S,pbar,x_unif"
     ],
     "language": "python",
     "metadata": {},
     "outputs": [
      {
       "metadata": {},
       "output_type": "pyout",
       "prompt_number": 5,
       "text": [
        "(<20x20 matrix, tc='d'>, <1x20 matrix, tc='d'>, <1x20 matrix, tc='d'>)"
       ]
      }
     ],
     "prompt_number": 5
    },
    {
     "cell_type": "code",
     "collapsed": false,
     "input": [
      "from cvxopt.blas import dot\n",
      "\n",
      "uni_risk_sq = (x_unif*S*x_unif.T)[0]\n",
      "print \"uni_risk_sq = \",uni_risk_sq\n",
      "\n",
      "uni_risk = uni_risk_sq**0.5\n",
      "print \"uni_risk = \",uni_risk"
     ],
     "language": "python",
     "metadata": {},
     "outputs": [
      {
       "output_type": "stream",
       "stream": "stdout",
       "text": [
        "uni_risk_sq =  0.00757525788251\n",
        "uni_risk =  0.0870359574113\n"
       ]
      }
     ],
     "prompt_number": 6
    },
    {
     "cell_type": "markdown",
     "metadata": {},
     "source": [
      "## Attention the risk is the standard deviation, i.e. the square root of variance "
     ]
    },
    {
     "cell_type": "code",
     "collapsed": false,
     "input": [
      "G = matrix(0.0, (n,n))\n",
      "G[::n+1] = -1.0\n",
      "print G"
     ],
     "language": "python",
     "metadata": {},
     "outputs": [
      {
       "output_type": "stream",
       "stream": "stdout",
       "text": [
        "[-1.00e+00  0.00e+00  0.00e+00  0.00e+00  0.00e+00  0.00e+00  0.00e+00 ... ]\n",
        "[ 0.00e+00 -1.00e+00  0.00e+00  0.00e+00  0.00e+00  0.00e+00  0.00e+00 ... ]\n",
        "[ 0.00e+00  0.00e+00 -1.00e+00  0.00e+00  0.00e+00  0.00e+00  0.00e+00 ... ]\n",
        "[ 0.00e+00  0.00e+00  0.00e+00 -1.00e+00  0.00e+00  0.00e+00  0.00e+00 ... ]\n",
        "[ 0.00e+00  0.00e+00  0.00e+00  0.00e+00 -1.00e+00  0.00e+00  0.00e+00 ... ]\n",
        "[ 0.00e+00  0.00e+00  0.00e+00  0.00e+00  0.00e+00 -1.00e+00  0.00e+00 ... ]\n",
        "[ 0.00e+00  0.00e+00  0.00e+00  0.00e+00  0.00e+00  0.00e+00 -1.00e+00 ... ]\n",
        "[ 0.00e+00  0.00e+00  0.00e+00  0.00e+00  0.00e+00  0.00e+00  0.00e+00 ... ]\n",
        "[ 0.00e+00  0.00e+00  0.00e+00  0.00e+00  0.00e+00  0.00e+00  0.00e+00 ... ]\n",
        "[ 0.00e+00  0.00e+00  0.00e+00  0.00e+00  0.00e+00  0.00e+00  0.00e+00 ... ]\n",
        "[ 0.00e+00  0.00e+00  0.00e+00  0.00e+00  0.00e+00  0.00e+00  0.00e+00 ... ]\n",
        "[ 0.00e+00  0.00e+00  0.00e+00  0.00e+00  0.00e+00  0.00e+00  0.00e+00 ... ]\n",
        "[ 0.00e+00  0.00e+00  0.00e+00  0.00e+00  0.00e+00  0.00e+00  0.00e+00 ... ]\n",
        "[ 0.00e+00  0.00e+00  0.00e+00  0.00e+00  0.00e+00  0.00e+00  0.00e+00 ... ]\n",
        "[ 0.00e+00  0.00e+00  0.00e+00  0.00e+00  0.00e+00  0.00e+00  0.00e+00 ... ]\n",
        "[ 0.00e+00  0.00e+00  0.00e+00  0.00e+00  0.00e+00  0.00e+00  0.00e+00 ... ]\n",
        "[ 0.00e+00  0.00e+00  0.00e+00  0.00e+00  0.00e+00  0.00e+00  0.00e+00 ... ]\n",
        "[ 0.00e+00  0.00e+00  0.00e+00  0.00e+00  0.00e+00  0.00e+00  0.00e+00 ... ]\n",
        "[ 0.00e+00  0.00e+00  0.00e+00  0.00e+00  0.00e+00  0.00e+00  0.00e+00 ... ]\n",
        "[ 0.00e+00  0.00e+00  0.00e+00  0.00e+00  0.00e+00  0.00e+00  0.00e+00 ... ]\n",
        "\n"
       ]
      }
     ],
     "prompt_number": 7
    },
    {
     "cell_type": "code",
     "collapsed": false,
     "input": [
      "h = matrix(0.0, (n,1))\n",
      "print h"
     ],
     "language": "python",
     "metadata": {},
     "outputs": [
      {
       "output_type": "stream",
       "stream": "stdout",
       "text": [
        "[ 0.00e+00]\n",
        "[ 0.00e+00]\n",
        "[ 0.00e+00]\n",
        "[ 0.00e+00]\n",
        "[ 0.00e+00]\n",
        "[ 0.00e+00]\n",
        "[ 0.00e+00]\n",
        "[ 0.00e+00]\n",
        "[ 0.00e+00]\n",
        "[ 0.00e+00]\n",
        "[ 0.00e+00]\n",
        "[ 0.00e+00]\n",
        "[ 0.00e+00]\n",
        "[ 0.00e+00]\n",
        "[ 0.00e+00]\n",
        "[ 0.00e+00]\n",
        "[ 0.00e+00]\n",
        "[ 0.00e+00]\n",
        "[ 0.00e+00]\n",
        "[ 0.00e+00]\n",
        "\n"
       ]
      }
     ],
     "prompt_number": 8
    },
    {
     "cell_type": "code",
     "collapsed": false,
     "input": [
      "A = matrix([pbar,matrix(1.0, (1,n))])\n",
      "print A"
     ],
     "language": "python",
     "metadata": {},
     "outputs": [
      {
       "output_type": "stream",
       "stream": "stdout",
       "text": [
        "[ 1.34e-01  1.39e-01  5.40e-02  1.33e-01  1.26e-01  7.06e-02  1.18e-01 ... ]\n",
        "[ 1.00e+00  1.00e+00  1.00e+00  1.00e+00  1.00e+00  1.00e+00  1.00e+00 ... ]\n",
        "\n"
       ]
      }
     ],
     "prompt_number": 9
    },
    {
     "cell_type": "code",
     "collapsed": false,
     "input": [
      "(pbar*x_unif.T)[0]"
     ],
     "language": "python",
     "metadata": {},
     "outputs": [
      {
       "metadata": {},
       "output_type": "pyout",
       "prompt_number": 10,
       "text": [
        "0.09909148837382621"
       ]
      }
     ],
     "prompt_number": 10
    },
    {
     "cell_type": "code",
     "collapsed": false,
     "input": [
      "b = matrix([(pbar*x_unif.T)[0],1.0])\n",
      "print b"
     ],
     "language": "python",
     "metadata": {},
     "outputs": [
      {
       "output_type": "stream",
       "stream": "stdout",
       "text": [
        "[ 9.91e-02]\n",
        "[ 1.00e+00]\n",
        "\n"
       ]
      }
     ],
     "prompt_number": 11
    },
    {
     "cell_type": "code",
     "collapsed": false,
     "input": [
      "print S"
     ],
     "language": "python",
     "metadata": {},
     "outputs": [
      {
       "output_type": "stream",
       "stream": "stdout",
       "text": [
        "[ 6.61e-02 -6.51e-03  1.43e-02  4.81e-03 -3.66e-03  7.77e-03 -4.57e-03 ... ]\n",
        "[-6.51e-03  9.75e-02  2.26e-02 -2.59e-02 -2.15e-02 -6.00e-03  3.76e-02 ... ]\n",
        "[ 1.43e-02  2.26e-02  2.00e-01  3.33e-02  1.54e-02  4.82e-04  2.11e-02 ... ]\n",
        "[ 4.81e-03 -2.59e-02  3.33e-02  9.66e-02  5.11e-02  1.14e-02 -5.30e-02 ... ]\n",
        "[-3.66e-03 -2.15e-02  1.54e-02  5.11e-02  8.51e-02  1.50e-02 -7.34e-03 ... ]\n",
        "[ 7.77e-03 -6.00e-03  4.82e-04  1.14e-02  1.50e-02  9.21e-02  3.82e-04 ... ]\n",
        "[-4.57e-03  3.76e-02  2.11e-02 -5.30e-02 -7.34e-03  3.82e-04  1.96e-01 ... ]\n",
        "[-1.62e-02  4.02e-02 -3.14e-03 -2.74e-02 -2.26e-02  8.17e-03  5.36e-02 ... ]\n",
        "[ 5.82e-03 -3.89e-02 -5.91e-02  2.84e-03 -1.51e-02 -2.37e-02 -5.66e-02 ... ]\n",
        "[-1.24e-02 -2.01e-03 -8.45e-03 -6.02e-03 -1.92e-03 -2.78e-02 -2.32e-03 ... ]\n",
        "[ 4.15e-03 -9.74e-03 -2.98e-02  5.10e-03 -7.50e-03  2.43e-02 -7.38e-03 ... ]\n",
        "[ 5.98e-03 -4.53e-02  7.18e-05  1.78e-02 -3.44e-02 -3.23e-02 -6.33e-02 ... ]\n",
        "[ 1.66e-02  1.59e-02  2.74e-02  1.70e-02  1.58e-02  1.21e-02  2.95e-02 ... ]\n",
        "[ 2.21e-02 -1.33e-02 -1.41e-03  2.59e-02  8.42e-03 -2.06e-02 -1.81e-02 ... ]\n",
        "[-1.14e-03  4.58e-02 -7.36e-03 -4.61e-02 -3.19e-02  2.17e-02  2.40e-02 ... ]\n",
        "[ 5.85e-03 -9.41e-03  1.26e-02  2.96e-02  6.72e-03 -3.08e-02 -3.26e-02 ... ]\n",
        "[ 1.19e-02  1.84e-02  3.63e-02  2.13e-02  2.13e-02  1.05e-02  1.67e-02 ... ]\n",
        "[-1.28e-02  2.25e-02  5.09e-02  1.67e-02  3.59e-02 -1.35e-02  2.28e-02 ... ]\n",
        "[ 5.24e-02 -3.46e-02  4.52e-02  5.51e-03  7.49e-03 -5.16e-02 -5.94e-03 ... ]\n",
        "[ 0.00e+00  0.00e+00  0.00e+00  0.00e+00  0.00e+00  0.00e+00  0.00e+00 ... ]\n",
        "\n"
       ]
      }
     ],
     "prompt_number": 12
    },
    {
     "cell_type": "code",
     "collapsed": false,
     "input": [
      "q = matrix(0.0, (n,1))\n",
      "print q"
     ],
     "language": "python",
     "metadata": {},
     "outputs": [
      {
       "output_type": "stream",
       "stream": "stdout",
       "text": [
        "[ 0.00e+00]\n",
        "[ 0.00e+00]\n",
        "[ 0.00e+00]\n",
        "[ 0.00e+00]\n",
        "[ 0.00e+00]\n",
        "[ 0.00e+00]\n",
        "[ 0.00e+00]\n",
        "[ 0.00e+00]\n",
        "[ 0.00e+00]\n",
        "[ 0.00e+00]\n",
        "[ 0.00e+00]\n",
        "[ 0.00e+00]\n",
        "[ 0.00e+00]\n",
        "[ 0.00e+00]\n",
        "[ 0.00e+00]\n",
        "[ 0.00e+00]\n",
        "[ 0.00e+00]\n",
        "[ 0.00e+00]\n",
        "[ 0.00e+00]\n",
        "[ 0.00e+00]\n",
        "\n"
       ]
      }
     ],
     "prompt_number": 13
    },
    {
     "cell_type": "code",
     "collapsed": false,
     "input": [
      "from cvxopt import solvers"
     ],
     "language": "python",
     "metadata": {},
     "outputs": [],
     "prompt_number": 14
    },
    {
     "cell_type": "code",
     "collapsed": false,
     "input": [
      "sol = solvers.qp(2*S,q, G, h, A, b)\n",
      "sol_x = sol[\"x\"]\n",
      "print sol_x"
     ],
     "language": "python",
     "metadata": {},
     "outputs": [
      {
       "output_type": "stream",
       "stream": "stdout",
       "text": [
        "     pcost       dcost       gap    pres   dres\n",
        " 0:  5.7284e-03 -1.0104e+00  1e+00  7e-17  5e+00\n",
        " 1:  5.5956e-03 -1.9192e-02  2e-02  2e-16  1e-01\n",
        " 2:  3.7997e-03 -2.9070e-04  4e-03  6e-17  1e-02\n",
        " 3:  2.8714e-03  2.2579e-03  6e-04  4e-17  1e-03\n",
        " 4:  2.5950e-03  2.5155e-03  8e-05  3e-16  7e-05\n",
        " 5:  2.5668e-03  2.5653e-03  2e-06  4e-16  8e-07\n",
        " 6:  2.5663e-03  2.5662e-03  2e-08  2e-16  8e-09\n",
        "Optimal solution found.\n",
        "[ 1.95e-08]\n",
        "[ 1.32e-01]\n",
        "[ 3.87e-07]\n",
        "[ 1.07e-06]\n",
        "[ 8.57e-02]\n",
        "[ 1.19e-01]\n",
        "[ 4.86e-02]\n",
        "[ 1.59e-02]\n",
        "[ 1.20e-01]\n",
        "[ 1.45e-02]\n",
        "[ 6.00e-08]\n",
        "[ 5.62e-02]\n",
        "[ 6.58e-02]\n",
        "[ 6.35e-02]\n",
        "[ 1.94e-02]\n",
        "[ 6.29e-02]\n",
        "[ 3.78e-08]\n",
        "[ 1.72e-07]\n",
        "[ 5.74e-02]\n",
        "[ 1.40e-01]\n",
        "\n"
       ]
      }
     ],
     "prompt_number": 15
    },
    {
     "cell_type": "code",
     "collapsed": false,
     "input": [],
     "language": "python",
     "metadata": {},
     "outputs": [],
     "prompt_number": 15
    },
    {
     "cell_type": "code",
     "collapsed": false,
     "input": [
      "risk_sq = (sol_x.T*S*sol_x)[0]\n",
      "print \"risk_sq = \",risk_sq\n",
      "\n",
      "risk = risk_sq**0.5\n",
      "print \"risk = \",risk"
     ],
     "language": "python",
     "metadata": {},
     "outputs": [
      {
       "output_type": "stream",
       "stream": "stdout",
       "text": [
        "risk_sq =  0.00256626041038\n",
        "risk =  0.050658270898\n"
       ]
      }
     ],
     "prompt_number": 16
    },
    {
     "cell_type": "code",
     "collapsed": false,
     "input": [],
     "language": "python",
     "metadata": {},
     "outputs": [],
     "prompt_number": 16
    },
    {
     "cell_type": "markdown",
     "metadata": {},
     "source": [
      "# Free Constraints:\n",
      "\n",
      "## $$ \\begin{eqnarray} \\min_{x_1,\\ldots,x_{20}} & &\\sum_{i=1}^{20}\\sum_{j=1}^{20} x_i\\sigma_{ij} x_j \\\\ & &\\sum_{i=1}^{20} \\bar{p_i}x_i = \\sum_{i=1}^{20} \\frac{\\bar{p_i}}{20} \\\\  & &\\sum_{i=1}^{20}\\ x_i = 1 \\\\ \\end{eqnarray}$$"
     ]
    },
    {
     "cell_type": "code",
     "collapsed": false,
     "input": [
      "G = matrix(0.0, (n,n))\n",
      "print G"
     ],
     "language": "python",
     "metadata": {},
     "outputs": [
      {
       "output_type": "stream",
       "stream": "stdout",
       "text": [
        "[ 0.00e+00  0.00e+00  0.00e+00  0.00e+00  0.00e+00  0.00e+00  0.00e+00 ... ]\n",
        "[ 0.00e+00  0.00e+00  0.00e+00  0.00e+00  0.00e+00  0.00e+00  0.00e+00 ... ]\n",
        "[ 0.00e+00  0.00e+00  0.00e+00  0.00e+00  0.00e+00  0.00e+00  0.00e+00 ... ]\n",
        "[ 0.00e+00  0.00e+00  0.00e+00  0.00e+00  0.00e+00  0.00e+00  0.00e+00 ... ]\n",
        "[ 0.00e+00  0.00e+00  0.00e+00  0.00e+00  0.00e+00  0.00e+00  0.00e+00 ... ]\n",
        "[ 0.00e+00  0.00e+00  0.00e+00  0.00e+00  0.00e+00  0.00e+00  0.00e+00 ... ]\n",
        "[ 0.00e+00  0.00e+00  0.00e+00  0.00e+00  0.00e+00  0.00e+00  0.00e+00 ... ]\n",
        "[ 0.00e+00  0.00e+00  0.00e+00  0.00e+00  0.00e+00  0.00e+00  0.00e+00 ... ]\n",
        "[ 0.00e+00  0.00e+00  0.00e+00  0.00e+00  0.00e+00  0.00e+00  0.00e+00 ... ]\n",
        "[ 0.00e+00  0.00e+00  0.00e+00  0.00e+00  0.00e+00  0.00e+00  0.00e+00 ... ]\n",
        "[ 0.00e+00  0.00e+00  0.00e+00  0.00e+00  0.00e+00  0.00e+00  0.00e+00 ... ]\n",
        "[ 0.00e+00  0.00e+00  0.00e+00  0.00e+00  0.00e+00  0.00e+00  0.00e+00 ... ]\n",
        "[ 0.00e+00  0.00e+00  0.00e+00  0.00e+00  0.00e+00  0.00e+00  0.00e+00 ... ]\n",
        "[ 0.00e+00  0.00e+00  0.00e+00  0.00e+00  0.00e+00  0.00e+00  0.00e+00 ... ]\n",
        "[ 0.00e+00  0.00e+00  0.00e+00  0.00e+00  0.00e+00  0.00e+00  0.00e+00 ... ]\n",
        "[ 0.00e+00  0.00e+00  0.00e+00  0.00e+00  0.00e+00  0.00e+00  0.00e+00 ... ]\n",
        "[ 0.00e+00  0.00e+00  0.00e+00  0.00e+00  0.00e+00  0.00e+00  0.00e+00 ... ]\n",
        "[ 0.00e+00  0.00e+00  0.00e+00  0.00e+00  0.00e+00  0.00e+00  0.00e+00 ... ]\n",
        "[ 0.00e+00  0.00e+00  0.00e+00  0.00e+00  0.00e+00  0.00e+00  0.00e+00 ... ]\n",
        "[ 0.00e+00  0.00e+00  0.00e+00  0.00e+00  0.00e+00  0.00e+00  0.00e+00 ... ]\n",
        "\n"
       ]
      }
     ],
     "prompt_number": 17
    },
    {
     "cell_type": "code",
     "collapsed": false,
     "input": [
      "sol = solvers.qp(2*S,q, G, h, A, b)\n",
      "sol_x = sol[\"x\"]\n",
      "print sol_x"
     ],
     "language": "python",
     "metadata": {},
     "outputs": [
      {
       "output_type": "stream",
       "stream": "stdout",
       "text": [
        "     pcost       dcost       gap    pres   dres\n",
        " 0:  3.4623e-04  3.4623e-04  2e+01  4e+00  6e-16\n",
        " 1:  3.4623e-04  3.4623e-04  2e-01  4e-02  3e-17\n",
        " 2:  3.4623e-04  3.4623e-04  2e-03  4e-04  4e-17\n",
        " 3:  3.4623e-04  3.4623e-04  2e-05  4e-06  2e-17\n",
        " 4:  3.4623e-04  3.4623e-04  2e-07  4e-08  3e-17\n",
        " 5:  3.4623e-04  3.4623e-04  2e-09  4e-10  2e-17\n",
        "Optimal solution found.\n",
        "[-2.04e-01]\n",
        "[ 1.86e-01]\n",
        "[ 2.98e-02]\n",
        "[-9.23e-02]\n",
        "[ 5.65e-02]\n",
        "[ 2.47e-01]\n",
        "[ 2.23e-02]\n",
        "[-2.64e-03]\n",
        "[ 2.68e-01]\n",
        "[ 2.90e-03]\n",
        "[-1.04e-01]\n",
        "[ 7.73e-02]\n",
        "[ 3.02e-01]\n",
        "[ 1.71e-01]\n",
        "[-6.58e-02]\n",
        "[-4.67e-02]\n",
        "[-1.96e-01]\n",
        "[ 2.32e-02]\n",
        "[ 1.15e-01]\n",
        "[ 2.10e-01]\n",
        "\n"
       ]
      }
     ],
     "prompt_number": 18
    },
    {
     "cell_type": "code",
     "collapsed": false,
     "input": [
      "risk_sq = (sol_x.T*S*sol_x)[0]\n",
      "print \"risk_sq = \",risk_sq\n",
      "\n",
      "risk = risk_sq**0.5\n",
      "print \"risk = \",risk"
     ],
     "language": "python",
     "metadata": {},
     "outputs": [
      {
       "output_type": "stream",
       "stream": "stdout",
       "text": [
        "risk_sq =  0.000346226042175\n",
        "risk =  0.018607150297\n"
       ]
      }
     ],
     "prompt_number": 19
    },
    {
     "cell_type": "markdown",
     "metadata": {},
     "source": [
      "# Total Short Position:\n"
     ]
    },
    {
     "cell_type": "code",
     "collapsed": false,
     "input": [
      "test_n = 3\n",
      "print  matrix([[matrix(4.0,(test_n,test_n)),matrix(0.0,(test_n,test_n))],\n",
      "               [matrix(0.0,(test_n,test_n)),matrix(4.0,(test_n,test_n))]])\n"
     ],
     "language": "python",
     "metadata": {},
     "outputs": [
      {
       "output_type": "stream",
       "stream": "stdout",
       "text": [
        "[ 4.00e+00  4.00e+00  4.00e+00  0.00e+00  0.00e+00  0.00e+00]\n",
        "[ 4.00e+00  4.00e+00  4.00e+00  0.00e+00  0.00e+00  0.00e+00]\n",
        "[ 4.00e+00  4.00e+00  4.00e+00  0.00e+00  0.00e+00  0.00e+00]\n",
        "[ 0.00e+00  0.00e+00  0.00e+00  4.00e+00  4.00e+00  4.00e+00]\n",
        "[ 0.00e+00  0.00e+00  0.00e+00  4.00e+00  4.00e+00  4.00e+00]\n",
        "[ 0.00e+00  0.00e+00  0.00e+00  4.00e+00  4.00e+00  4.00e+00]\n",
        "\n"
       ]
      }
     ],
     "prompt_number": 77
    },
    {
     "cell_type": "code",
     "collapsed": false,
     "input": [],
     "language": "python",
     "metadata": {},
     "outputs": [],
     "prompt_number": 77
    },
    {
     "cell_type": "code",
     "collapsed": false,
     "input": [
      "TS_S = matrix([[S,-S],\n",
      "               [-S,S]])\n",
      "print TS_S\n",
      "TS_S"
     ],
     "language": "python",
     "metadata": {},
     "outputs": [
      {
       "output_type": "stream",
       "stream": "stdout",
       "text": [
        "[ 6.61e-02 -6.51e-03  1.43e-02  4.81e-03 -3.66e-03  7.77e-03 -4.57e-03 ... ]\n",
        "[-6.51e-03  9.75e-02  2.26e-02 -2.59e-02 -2.15e-02 -6.00e-03  3.76e-02 ... ]\n",
        "[ 1.43e-02  2.26e-02  2.00e-01  3.33e-02  1.54e-02  4.82e-04  2.11e-02 ... ]\n",
        "[ 4.81e-03 -2.59e-02  3.33e-02  9.66e-02  5.11e-02  1.14e-02 -5.30e-02 ... ]\n",
        "[-3.66e-03 -2.15e-02  1.54e-02  5.11e-02  8.51e-02  1.50e-02 -7.34e-03 ... ]\n",
        "[ 7.77e-03 -6.00e-03  4.82e-04  1.14e-02  1.50e-02  9.21e-02  3.82e-04 ... ]\n",
        "[-4.57e-03  3.76e-02  2.11e-02 -5.30e-02 -7.34e-03  3.82e-04  1.96e-01 ... ]\n",
        "[-1.62e-02  4.02e-02 -3.14e-03 -2.74e-02 -2.26e-02  8.17e-03  5.36e-02 ... ]\n",
        "[ 5.82e-03 -3.89e-02 -5.91e-02  2.84e-03 -1.51e-02 -2.37e-02 -5.66e-02 ... ]\n",
        "[-1.24e-02 -2.01e-03 -8.45e-03 -6.02e-03 -1.92e-03 -2.78e-02 -2.32e-03 ... ]\n",
        "[ 4.15e-03 -9.74e-03 -2.98e-02  5.10e-03 -7.50e-03  2.43e-02 -7.38e-03 ... ]\n",
        "[ 5.98e-03 -4.53e-02  7.18e-05  1.78e-02 -3.44e-02 -3.23e-02 -6.33e-02 ... ]\n",
        "[ 1.66e-02  1.59e-02  2.74e-02  1.70e-02  1.58e-02  1.21e-02  2.95e-02 ... ]\n",
        "[ 2.21e-02 -1.33e-02 -1.41e-03  2.59e-02  8.42e-03 -2.06e-02 -1.81e-02 ... ]\n",
        "[-1.14e-03  4.58e-02 -7.36e-03 -4.61e-02 -3.19e-02  2.17e-02  2.40e-02 ... ]\n",
        "[ 5.85e-03 -9.41e-03  1.26e-02  2.96e-02  6.72e-03 -3.08e-02 -3.26e-02 ... ]\n",
        "[ 1.19e-02  1.84e-02  3.63e-02  2.13e-02  2.13e-02  1.05e-02  1.67e-02 ... ]\n",
        "[-1.28e-02  2.25e-02  5.09e-02  1.67e-02  3.59e-02 -1.35e-02  2.28e-02 ... ]\n",
        "[ 5.24e-02 -3.46e-02  4.52e-02  5.51e-03  7.49e-03 -5.16e-02 -5.94e-03 ... ]\n",
        "[ 0.00e+00  0.00e+00  0.00e+00  0.00e+00  0.00e+00  0.00e+00  0.00e+00 ... ]\n",
        "[-6.61e-02  6.51e-03 -1.43e-02 -4.81e-03  3.66e-03 -7.77e-03  4.57e-03 ... ]\n",
        "[ 6.51e-03 -9.75e-02 -2.26e-02  2.59e-02  2.15e-02  6.00e-03 -3.76e-02 ... ]\n",
        "[-1.43e-02 -2.26e-02 -2.00e-01 -3.33e-02 -1.54e-02 -4.82e-04 -2.11e-02 ... ]\n",
        "[-4.81e-03  2.59e-02 -3.33e-02 -9.66e-02 -5.11e-02 -1.14e-02  5.30e-02 ... ]\n",
        "[ 3.66e-03  2.15e-02 -1.54e-02 -5.11e-02 -8.51e-02 -1.50e-02  7.34e-03 ... ]\n",
        "[-7.77e-03  6.00e-03 -4.82e-04 -1.14e-02 -1.50e-02 -9.21e-02 -3.82e-04 ... ]\n",
        "[ 4.57e-03 -3.76e-02 -2.11e-02  5.30e-02  7.34e-03 -3.82e-04 -1.96e-01 ... ]\n",
        "[ 1.62e-02 -4.02e-02  3.14e-03  2.74e-02  2.26e-02 -8.17e-03 -5.36e-02 ... ]\n",
        "[-5.82e-03  3.89e-02  5.91e-02 -2.84e-03  1.51e-02  2.37e-02  5.66e-02 ... ]\n",
        "[ 1.24e-02  2.01e-03  8.45e-03  6.02e-03  1.92e-03  2.78e-02  2.32e-03 ... ]\n",
        "[-4.15e-03  9.74e-03  2.98e-02 -5.10e-03  7.50e-03 -2.43e-02  7.38e-03 ... ]\n",
        "[-5.98e-03  4.53e-02 -7.18e-05 -1.78e-02  3.44e-02  3.23e-02  6.33e-02 ... ]\n",
        "[-1.66e-02 -1.59e-02 -2.74e-02 -1.70e-02 -1.58e-02 -1.21e-02 -2.95e-02 ... ]\n",
        "[-2.21e-02  1.33e-02  1.41e-03 -2.59e-02 -8.42e-03  2.06e-02  1.81e-02 ... ]\n",
        "[ 1.14e-03 -4.58e-02  7.36e-03  4.61e-02  3.19e-02 -2.17e-02 -2.40e-02 ... ]\n",
        "[-5.85e-03  9.41e-03 -1.26e-02 -2.96e-02 -6.72e-03  3.08e-02  3.26e-02 ... ]\n",
        "[-1.19e-02 -1.84e-02 -3.63e-02 -2.13e-02 -2.13e-02 -1.05e-02 -1.67e-02 ... ]\n",
        "[ 1.28e-02 -2.25e-02 -5.09e-02 -1.67e-02 -3.59e-02  1.35e-02 -2.28e-02 ... ]\n",
        "[-5.24e-02  3.46e-02 -4.52e-02 -5.51e-03 -7.49e-03  5.16e-02  5.94e-03 ... ]\n",
        "[-0.00e+00 -0.00e+00 -0.00e+00 -0.00e+00 -0.00e+00 -0.00e+00 -0.00e+00 ... ]\n",
        "\n"
       ]
      },
      {
       "metadata": {},
       "output_type": "pyout",
       "prompt_number": 102,
       "text": [
        "<40x40 matrix, tc='d'>"
       ]
      }
     ],
     "prompt_number": 102
    },
    {
     "cell_type": "code",
     "collapsed": false,
     "input": [
      "TS_q = matrix(0.0, (2*n,1))\n",
      "# print TS_q\n",
      "TS_q"
     ],
     "language": "python",
     "metadata": {},
     "outputs": [
      {
       "metadata": {},
       "output_type": "pyout",
       "prompt_number": 79,
       "text": [
        "<40x1 matrix, tc='d'>"
       ]
      }
     ],
     "prompt_number": 79
    },
    {
     "cell_type": "code",
     "collapsed": false,
     "input": [
      "G = matrix(0.0, (2*n,2*n))\n",
      "G[::2*n+1] = -1.0\n",
      "# print G\n",
      "G"
     ],
     "language": "python",
     "metadata": {},
     "outputs": [
      {
       "metadata": {},
       "output_type": "pyout",
       "prompt_number": 116,
       "text": [
        "<40x40 matrix, tc='d'>"
       ]
      }
     ],
     "prompt_number": 116
    },
    {
     "cell_type": "code",
     "collapsed": false,
     "input": [
      "pbar_xs = matrix([matrix(0.0,(n,1)),matrix(1.0,(n,1))]).T\n",
      "# print pbar_xs.T\n",
      "pbar_xs"
     ],
     "language": "python",
     "metadata": {},
     "outputs": [
      {
       "metadata": {},
       "output_type": "pyout",
       "prompt_number": 117,
       "text": [
        "<1x40 matrix, tc='d'>"
       ]
      }
     ],
     "prompt_number": 117
    },
    {
     "cell_type": "code",
     "collapsed": false,
     "input": [
      "TS_G = matrix([G,pbar_xs])\n",
      "# print TS_G[-1,:].T\n",
      "# print TS_G\n",
      "TS_G"
     ],
     "language": "python",
     "metadata": {},
     "outputs": [
      {
       "metadata": {},
       "output_type": "pyout",
       "prompt_number": 121,
       "text": [
        "<41x40 matrix, tc='d'>"
       ]
      }
     ],
     "prompt_number": 121
    },
    {
     "cell_type": "code",
     "collapsed": false,
     "input": [
      "h = matrix(0.0, (2*n,1))\n",
      "# print h\n",
      "h"
     ],
     "language": "python",
     "metadata": {},
     "outputs": [
      {
       "metadata": {},
       "output_type": "pyout",
       "prompt_number": 122,
       "text": [
        "<40x1 matrix, tc='d'>"
       ]
      }
     ],
     "prompt_number": 122
    },
    {
     "cell_type": "code",
     "collapsed": false,
     "input": [
      "TS_h = matrix([h,0.5])\n",
      "# print TS_h\n",
      "TS_h"
     ],
     "language": "python",
     "metadata": {},
     "outputs": [
      {
       "metadata": {},
       "output_type": "pyout",
       "prompt_number": 123,
       "text": [
        "<41x1 matrix, tc='d'>"
       ]
      }
     ],
     "prompt_number": 123
    },
    {
     "cell_type": "code",
     "collapsed": false,
     "input": [
      "pbar_A = matrix([pbar.T,-pbar.T]).T\n",
      "# print pbar_A.T\n",
      "pbar_A"
     ],
     "language": "python",
     "metadata": {},
     "outputs": [
      {
       "metadata": {},
       "output_type": "pyout",
       "prompt_number": 124,
       "text": [
        "<1x40 matrix, tc='d'>"
       ]
      }
     ],
     "prompt_number": 124
    },
    {
     "cell_type": "code",
     "collapsed": false,
     "input": [
      "pbar_x = matrix([matrix(1.0,(n,1)),matrix(-1.0,(n,1))]).T\n",
      "# print pbar_x.T\n",
      "pbar_x"
     ],
     "language": "python",
     "metadata": {},
     "outputs": [
      {
       "metadata": {},
       "output_type": "pyout",
       "prompt_number": 125,
       "text": [
        "<1x40 matrix, tc='d'>"
       ]
      }
     ],
     "prompt_number": 125
    },
    {
     "cell_type": "code",
     "collapsed": false,
     "input": [
      "TS_A = matrix([pbar_A,pbar_x])\n",
      "print TS_A.T\n",
      "TS_A"
     ],
     "language": "python",
     "metadata": {},
     "outputs": [
      {
       "output_type": "stream",
       "stream": "stdout",
       "text": [
        "[ 1.34e-01  1.00e+00]\n",
        "[ 1.39e-01  1.00e+00]\n",
        "[ 5.40e-02  1.00e+00]\n",
        "[ 1.33e-01  1.00e+00]\n",
        "[ 1.26e-01  1.00e+00]\n",
        "[ 7.06e-02  1.00e+00]\n",
        "[ 1.18e-01  1.00e+00]\n",
        "[ 9.51e-02  1.00e+00]\n",
        "[ 8.16e-02  1.00e+00]\n",
        "[ 7.76e-02  1.00e+00]\n",
        "[ 5.56e-02  1.00e+00]\n",
        "[ 4.61e-02  1.00e+00]\n",
        "[ 1.36e-01  1.00e+00]\n",
        "[ 1.28e-01  1.00e+00]\n",
        "[ 1.19e-01  1.00e+00]\n",
        "[ 1.47e-01  1.00e+00]\n",
        "[ 4.49e-02  1.00e+00]\n",
        "[ 1.06e-01  1.00e+00]\n",
        "[ 1.42e-01  1.00e+00]\n",
        "[ 3.00e-02  1.00e+00]\n",
        "[-1.34e-01 -1.00e+00]\n",
        "[-1.39e-01 -1.00e+00]\n",
        "[-5.40e-02 -1.00e+00]\n",
        "[-1.33e-01 -1.00e+00]\n",
        "[-1.26e-01 -1.00e+00]\n",
        "[-7.06e-02 -1.00e+00]\n",
        "[-1.18e-01 -1.00e+00]\n",
        "[-9.51e-02 -1.00e+00]\n",
        "[-8.16e-02 -1.00e+00]\n",
        "[-7.76e-02 -1.00e+00]\n",
        "[-5.56e-02 -1.00e+00]\n",
        "[-4.61e-02 -1.00e+00]\n",
        "[-1.36e-01 -1.00e+00]\n",
        "[-1.28e-01 -1.00e+00]\n",
        "[-1.19e-01 -1.00e+00]\n",
        "[-1.47e-01 -1.00e+00]\n",
        "[-4.49e-02 -1.00e+00]\n",
        "[-1.06e-01 -1.00e+00]\n",
        "[-1.42e-01 -1.00e+00]\n",
        "[-3.00e-02 -1.00e+00]\n",
        "\n"
       ]
      },
      {
       "metadata": {},
       "output_type": "pyout",
       "prompt_number": 126,
       "text": [
        "<2x40 matrix, tc='d'>"
       ]
      }
     ],
     "prompt_number": 126
    },
    {
     "cell_type": "code",
     "collapsed": false,
     "input": [
      "TS_b = matrix([(pbar*x_unif.T)[0],1.0])\n",
      "print TS_b"
     ],
     "language": "python",
     "metadata": {},
     "outputs": [
      {
       "output_type": "stream",
       "stream": "stdout",
       "text": [
        "[ 9.91e-02]\n",
        "[ 1.00e+00]\n",
        "\n"
       ]
      }
     ],
     "prompt_number": 127
    },
    {
     "cell_type": "code",
     "collapsed": false,
     "input": [
      "sol = solvers.qp(2*TS_S,TS_q, TS_G, TS_h, TS_A, TS_b)\n",
      "sol_x = sol[\"x\"]\n",
      "print sol_x"
     ],
     "language": "python",
     "metadata": {},
     "outputs": [
      {
       "output_type": "stream",
       "stream": "stdout",
       "text": [
        "     pcost       dcost       gap    pres   dres\n",
        " 0:  4.8736e-03 -1.9598e+00  2e+00  3e-16  5e+00\n",
        " 1:  4.7156e-03 -3.8087e-02  4e-02  6e-17  1e-01\n",
        " 2:  2.5218e-03 -6.9538e-03  9e-03  9e-17  2e-02\n",
        " 3:  1.2273e-03 -1.2792e-03  3e-03  2e-16  2e-03\n",
        " 4:  6.5967e-04  1.8113e-04  5e-04  5e-16  2e-04\n",
        " 5:  4.8233e-04  4.0495e-04  8e-05  2e-16  2e-06\n",
        " 6:  4.4392e-04  4.3746e-04  6e-06  2e-16  5e-17\n",
        " 7:  4.4082e-04  4.4072e-04  1e-07  4e-16  5e-17\n",
        "Optimal solution found.\n",
        "[ 2.69e-06]\n",
        "[ 1.51e-01]\n",
        "[ 1.50e-02]\n",
        "[ 2.12e-06]\n",
        "[ 3.69e-02]\n",
        "[ 2.04e-01]\n",
        "[ 3.60e-02]\n",
        "[ 1.14e-02]\n",
        "[ 2.36e-01]\n",
        "[ 8.44e-03]\n",
        "[ 2.64e-06]\n",
        "[ 6.85e-02]\n",
        "[ 2.05e-01]\n",
        "[ 1.21e-01]\n",
        "[ 2.51e-06]\n",
        "[ 2.46e-06]\n",
        "[ 2.78e-06]\n",
        "[ 8.90e-02]\n",
        "[ 7.32e-02]\n",
        "[ 2.45e-01]\n",
        "[ 9.29e-02]\n",
        "[ 2.26e-06]\n",
        "[ 1.64e-06]\n",
        "[ 2.51e-02]\n",
        "[ 2.09e-06]\n",
        "[ 2.23e-06]\n",
        "[ 2.15e-06]\n",
        "[ 1.38e-06]\n",
        "[ 2.18e-06]\n",
        "[ 1.06e-06]\n",
        "[ 1.03e-01]\n",
        "[ 2.27e-06]\n",
        "[ 2.35e-06]\n",
        "[ 2.33e-06]\n",
        "[ 3.27e-02]\n",
        "[ 4.01e-02]\n",
        "[ 2.06e-01]\n",
        "[ 2.31e-06]\n",
        "[ 2.34e-06]\n",
        "[ 2.21e-06]\n",
        "\n"
       ]
      }
     ],
     "prompt_number": 128
    },
    {
     "cell_type": "code",
     "collapsed": false,
     "input": [
      "risk_sq = (sol_x.T*TS_S*sol_x)[0]\n",
      "print \"risk_sq = \",risk_sq\n",
      "\n",
      "risk = risk_sq**0.5\n",
      "print \"risk = \",risk"
     ],
     "language": "python",
     "metadata": {},
     "outputs": [
      {
       "output_type": "stream",
       "stream": "stdout",
       "text": [
        "risk_sq =  0.000440819629422\n",
        "risk =  0.0209957050232\n"
       ]
      }
     ],
     "prompt_number": 129
    },
    {
     "cell_type": "code",
     "collapsed": false,
     "input": [],
     "language": "python",
     "metadata": {},
     "outputs": []
    }
   ],
   "metadata": {}
  }
 ]
}