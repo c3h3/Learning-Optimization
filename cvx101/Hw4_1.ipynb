{
 "metadata": {
  "name": ""
 },
 "nbformat": 3,
 "nbformat_minor": 0,
 "worksheets": [
  {
   "cells": [
    {
     "cell_type": "code",
     "collapsed": false,
     "input": [
      "from cvxopt import matrix, solvers"
     ],
     "language": "python",
     "metadata": {},
     "outputs": [],
     "prompt_number": 1
    },
    {
     "cell_type": "code",
     "collapsed": false,
     "input": [
      "u1 = -2.0\n",
      "u2 = -3.0"
     ],
     "language": "python",
     "metadata": {},
     "outputs": [],
     "prompt_number": 9
    },
    {
     "cell_type": "code",
     "collapsed": false,
     "input": [
      "P = 2*matrix([[1.0,0.5],[0.5,2.0]])\n",
      "print P\n",
      "\n",
      "q = matrix([-1.0,0.0])\n",
      "print q\n",
      "\n",
      "G = matrix([[1.0,2.0],[1.0,-4.0],[-1.0,-1.0]]).T\n",
      "print G\n",
      "\n",
      "h = matrix([u1,u2,5.0])\n",
      "print h\n"
     ],
     "language": "python",
     "metadata": {},
     "outputs": [
      {
       "output_type": "stream",
       "stream": "stdout",
       "text": [
        "[ 2.00e+00  1.00e+00]\n",
        "[ 1.00e+00  4.00e+00]\n",
        "\n",
        "[-1.00e+00]\n",
        "[ 0.00e+00]\n",
        "\n",
        "[ 1.00e+00  2.00e+00]\n",
        "[ 1.00e+00 -4.00e+00]\n",
        "[-1.00e+00 -1.00e+00]\n",
        "\n",
        "[-2.00e+00]\n",
        "[-3.00e+00]\n",
        "[ 5.00e+00]\n",
        "\n"
       ]
      }
     ],
     "prompt_number": 22
    },
    {
     "cell_type": "code",
     "collapsed": false,
     "input": [
      "sol = solvers.qp(P,q,G,h)"
     ],
     "language": "python",
     "metadata": {},
     "outputs": [
      {
       "output_type": "stream",
       "stream": "stdout",
       "text": [
        "     pcost       dcost       gap    pres   dres\n",
        " 0:  4.8528e+00  7.2560e+00  2e+01  5e-01  1e+01\n",
        " 1:  8.4364e+00  6.7891e+00  2e+00  2e-17  3e-15\n",
        " 2:  7.4659e+00  7.4382e+00  3e-02  8e-17  1e-15\n",
        " 3:  7.4447e+00  7.4444e+00  3e-04  1e-16  7e-15\n",
        " 4:  7.4444e+00  7.4444e+00  3e-06  5e-17  7e-15\n",
        "Optimal solution found.\n"
       ]
      }
     ],
     "prompt_number": 23
    },
    {
     "cell_type": "code",
     "collapsed": false,
     "input": [
      "sol"
     ],
     "language": "python",
     "metadata": {},
     "outputs": [
      {
       "metadata": {},
       "output_type": "pyout",
       "prompt_number": 24,
       "text": [
        "{'dual infeasibility': 6.940448042097717e-15,\n",
        " 'dual objective': 7.4444438219339455,\n",
        " 'dual slack': 2.1970952863043784e-07,\n",
        " 'gap': 2.7711346664645177e-06,\n",
        " 'iterations': 4,\n",
        " 'primal infeasibility': 4.525005663074221e-17,\n",
        " 'primal objective': 7.444446593068612,\n",
        " 'primal slack': 1.5208593823050937e-07,\n",
        " 'relative gap': 3.7224200124927826e-07,\n",
        " 's': <3x1 matrix, tc='d'>,\n",
        " 'status': 'optimal',\n",
        " 'x': <2x1 matrix, tc='d'>,\n",
        " 'y': <0x1 matrix, tc='d'>,\n",
        " 'z': <3x1 matrix, tc='d'>}"
       ]
      }
     ],
     "prompt_number": 24
    },
    {
     "cell_type": "code",
     "collapsed": false,
     "input": [
      "print sol[\"x\"]\n",
      "print sol[\"x\"][1]"
     ],
     "language": "python",
     "metadata": {},
     "outputs": [
      {
       "output_type": "stream",
       "stream": "stdout",
       "text": [
        "[-2.33e+00]\n",
        "[ 1.67e-01]\n",
        "\n",
        "0.166666807254\n"
       ]
      }
     ],
     "prompt_number": 27
    },
    {
     "cell_type": "code",
     "collapsed": false,
     "input": [
      "print sol[\"z\"]\n",
      "print sol[\"z\"][2]"
     ],
     "language": "python",
     "metadata": {},
     "outputs": [
      {
       "output_type": "stream",
       "stream": "stdout",
       "text": [
        "[ 3.94e+00]\n",
        "[ 1.56e+00]\n",
        "[ 2.20e-07]\n",
        "\n",
        "2.1970952863e-07\n"
       ]
      }
     ],
     "prompt_number": 28
    },
    {
     "cell_type": "code",
     "collapsed": false,
     "input": [],
     "language": "python",
     "metadata": {},
     "outputs": [],
     "prompt_number": 23
    },
    {
     "cell_type": "code",
     "collapsed": false,
     "input": [],
     "language": "python",
     "metadata": {},
     "outputs": []
    }
   ],
   "metadata": {}
  }
 ]
}