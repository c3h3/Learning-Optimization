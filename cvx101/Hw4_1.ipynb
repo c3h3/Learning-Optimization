{
 "metadata": {
  "name": ""
 },
 "nbformat": 3,
 "nbformat_minor": 0,
 "worksheets": [
  {
   "cells": [
    {
     "cell_type": "code",
     "collapsed": false,
     "input": [
      "from cvxopt import matrix, solvers"
     ],
     "language": "python",
     "metadata": {},
     "outputs": [],
     "prompt_number": 1
    },
    {
     "cell_type": "code",
     "collapsed": false,
     "input": [
      "u1 = -2.0\n",
      "u2 = -3.0"
     ],
     "language": "python",
     "metadata": {},
     "outputs": [],
     "prompt_number": 2
    },
    {
     "cell_type": "code",
     "collapsed": false,
     "input": [
      "P = 2*matrix([[1.0,0.5],[0.5,2.0]])\n",
      "print P\n",
      "\n",
      "q = matrix([-1.0,0.0])\n",
      "print q\n",
      "\n",
      "G = matrix([[1.0,2.0],[1.0,-4.0],[-1.0,-1.0]]).T\n",
      "print G\n",
      "\n",
      "h = matrix([u1,u2,5.0])\n",
      "print h\n"
     ],
     "language": "python",
     "metadata": {},
     "outputs": [
      {
       "output_type": "stream",
       "stream": "stdout",
       "text": [
        "[ 2.00e+00  1.00e+00]\n",
        "[ 1.00e+00  4.00e+00]\n",
        "\n",
        "[-1.00e+00]\n",
        "[ 0.00e+00]\n",
        "\n",
        "[ 1.00e+00  2.00e+00]\n",
        "[ 1.00e+00 -4.00e+00]\n",
        "[-1.00e+00 -1.00e+00]\n",
        "\n",
        "[-2.00e+00]\n",
        "[-3.00e+00]\n",
        "[ 5.00e+00]\n",
        "\n"
       ]
      }
     ],
     "prompt_number": 3
    },
    {
     "cell_type": "code",
     "collapsed": false,
     "input": [
      "sol = solvers.qp(P,q,G,h)\n",
      "sol"
     ],
     "language": "python",
     "metadata": {},
     "outputs": [
      {
       "output_type": "stream",
       "stream": "stdout",
       "text": [
        "     pcost       dcost       gap    pres   dres\n",
        " 0:  4.8528e+00  7.2560e+00  2e+01  5e-01  1e+01\n",
        " 1:  8.4364e+00  6.7891e+00  2e+00  2e-17  3e-15\n",
        " 2:  7.4659e+00  7.4382e+00  3e-02  8e-17  1e-15\n",
        " 3:  7.4447e+00  7.4444e+00  3e-04  1e-16  7e-15\n",
        " 4:  7.4444e+00  7.4444e+00  3e-06  5e-17  7e-15\n",
        "Optimal solution found.\n"
       ]
      },
      {
       "metadata": {},
       "output_type": "pyout",
       "prompt_number": 4,
       "text": [
        "{'dual infeasibility': 6.940448042097717e-15,\n",
        " 'dual objective': 7.4444438219339455,\n",
        " 'dual slack': 2.1970952863043784e-07,\n",
        " 'gap': 2.7711346664645177e-06,\n",
        " 'iterations': 4,\n",
        " 'primal infeasibility': 4.525005663074221e-17,\n",
        " 'primal objective': 7.444446593068612,\n",
        " 'primal slack': 1.5208593823050937e-07,\n",
        " 'relative gap': 3.7224200124927826e-07,\n",
        " 's': <3x1 matrix, tc='d'>,\n",
        " 'status': 'optimal',\n",
        " 'x': <2x1 matrix, tc='d'>,\n",
        " 'y': <0x1 matrix, tc='d'>,\n",
        " 'z': <3x1 matrix, tc='d'>}"
       ]
      }
     ],
     "prompt_number": 4
    },
    {
     "cell_type": "code",
     "collapsed": false,
     "input": [
      "p_exact = sol['primal objective']\n",
      "p_exact"
     ],
     "language": "python",
     "metadata": {},
     "outputs": [
      {
       "metadata": {},
       "output_type": "pyout",
       "prompt_number": 5,
       "text": [
        "7.444446593068612"
       ]
      }
     ],
     "prompt_number": 5
    },
    {
     "cell_type": "code",
     "collapsed": false,
     "input": [
      "print sol[\"x\"]\n",
      "print sol[\"x\"][1]"
     ],
     "language": "python",
     "metadata": {},
     "outputs": [
      {
       "output_type": "stream",
       "stream": "stdout",
       "text": [
        "[-2.33e+00]\n",
        "[ 1.67e-01]\n",
        "\n",
        "0.166666807254\n"
       ]
      }
     ],
     "prompt_number": 6
    },
    {
     "cell_type": "code",
     "collapsed": false,
     "input": [
      "print sol[\"z\"]\n",
      "print sol[\"z\"][2]"
     ],
     "language": "python",
     "metadata": {},
     "outputs": [
      {
       "output_type": "stream",
       "stream": "stdout",
       "text": [
        "[ 3.94e+00]\n",
        "[ 1.56e+00]\n",
        "[ 2.20e-07]\n",
        "\n",
        "2.1970952863e-07\n"
       ]
      }
     ],
     "prompt_number": 7
    },
    {
     "cell_type": "code",
     "collapsed": false,
     "input": [
      "print G*sol[\"x\"] - h"
     ],
     "language": "python",
     "metadata": {},
     "outputs": [
      {
       "output_type": "stream",
       "stream": "stdout",
       "text": [
        "[-1.52e-07]\n",
        "[-9.96e-07]\n",
        "[-2.83e+00]\n",
        "\n"
       ]
      }
     ],
     "prompt_number": 8
    },
    {
     "cell_type": "code",
     "collapsed": false,
     "input": [
      "opt_z = sol[\"z\"]\n",
      "print opt_z"
     ],
     "language": "python",
     "metadata": {},
     "outputs": [
      {
       "output_type": "stream",
       "stream": "stdout",
       "text": [
        "[ 3.94e+00]\n",
        "[ 1.56e+00]\n",
        "[ 2.20e-07]\n",
        "\n"
       ]
      }
     ],
     "prompt_number": 104
    },
    {
     "cell_type": "code",
     "collapsed": false,
     "input": [],
     "language": "python",
     "metadata": {},
     "outputs": [],
     "prompt_number": 8
    },
    {
     "cell_type": "code",
     "collapsed": false,
     "input": [],
     "language": "python",
     "metadata": {},
     "outputs": [],
     "prompt_number": 8
    },
    {
     "cell_type": "code",
     "collapsed": false,
     "input": [],
     "language": "python",
     "metadata": {},
     "outputs": [],
     "prompt_number": 8
    },
    {
     "cell_type": "code",
     "collapsed": false,
     "input": [
      "def sol_qp(d1,d2):\n",
      "    u1 = -2.0\n",
      "    u2 = -3.0\n",
      "    P = 2*matrix([[1.0,0.5],[0.5,2.0]])\n",
      "    q = matrix([-1.0,0.0])\n",
      "    G = matrix([[1.0,2.0],[1.0,-4.0],[-1.0,-1.0]]).T\n",
      "    h = matrix([u1+d1,u2+d2,5.0])\n",
      "    sol = solvers.qp(P,q,G,h)\n",
      "    \n",
      "    print d1,d2\n",
      "    print 'sol[\"z\"] = ',sol[\"z\"].T\n",
      "#     print matrix([d1,d2,0.0]).T\n",
      "#     print (matrix([d1,d2,0.0]).T*sol[\"z\"])[0]\n",
      "    p_pr = p_exact - (matrix([d1,d2,0.0]).T*opt_z)[0]\n",
      "    print \"p_pr = \",p_pr\n",
      "    p_ex = sol['primal objective']\n",
      "    print \"p_ex = \",p_ex\n",
      "    return pd.Series({\"p_exact\":p_ex,\"p_pred\":p_pr,\"diff\":p_ex - p_pr})\n"
     ],
     "language": "python",
     "metadata": {},
     "outputs": [],
     "prompt_number": 129
    },
    {
     "cell_type": "code",
     "collapsed": false,
     "input": [
      "import pandas as pd"
     ],
     "language": "python",
     "metadata": {},
     "outputs": [],
     "prompt_number": 130
    },
    {
     "cell_type": "code",
     "collapsed": false,
     "input": [
      "import itertools"
     ],
     "language": "python",
     "metadata": {},
     "outputs": [],
     "prompt_number": 131
    },
    {
     "cell_type": "code",
     "collapsed": false,
     "input": [
      "import numpy as np\n",
      "\n",
      "df = pd.DataFrame(list(itertools.product([0,-0.1,0.1],[0,-0.1,0.1])))\n",
      "df.columns = [\"d1\",\"d2\"]\n",
      "# df[\"p_exact\"] = df.apply(lambda xx:sol_qp(xx[0],xx[1]),axis=1)\n"
     ],
     "language": "python",
     "metadata": {},
     "outputs": [],
     "prompt_number": 132
    },
    {
     "cell_type": "code",
     "collapsed": false,
     "input": [
      "result_df = pd.DataFrame(df.apply(lambda xx:sol_qp(xx[0],xx[1]),axis=1))\n",
      "result_df"
     ],
     "language": "python",
     "metadata": {},
     "outputs": [
      {
       "output_type": "stream",
       "stream": "stdout",
       "text": [
        "     pcost       dcost       gap    pres   dres\n",
        " 0:  4.8528e+00  7.2560e+00  2e+01  5e-01  1e+01\n",
        " 1:  8.4364e+00  6.7891e+00  2e+00  2e-17  3e-15\n",
        " 2:  7.4659e+00  7.4382e+00  3e-02  8e-17  1e-15\n",
        " 3:  7.4447e+00  7.4444e+00  3e-04  1e-16  7e-15\n",
        " 4:  7.4444e+00  7.4444e+00  3e-06  5e-17  7e-15\n",
        "Optimal solution found.\n",
        "0.0 0.0\n",
        "sol[\"z\"] =  [ 3.94e+00  1.56e+00  2.20e-07]\n",
        "\n",
        "p_pr =  7.44444659307\n",
        "p_ex =  7.44444659307\n",
        "     pcost       dcost       gap    pres   dres\n",
        " 0:  4.8528e+00  7.2560e+00  2e+01  5e-01  1e+01\n",
        " 1:  8.4364e+00  6.7891e+00  2e+00  2e-17  3e-15\n",
        " 2:  7.4659e+00  7.4382e+00  3e-02  8e-17  1e-15\n",
        " 3:  7.4447e+00  7.4444e+00  3e-04  1e-16  7e-15\n",
        " 4:  7.4444e+00  7.4444e+00  3e-06  5e-17  7e-15\n",
        "Optimal solution found.\n",
        "0.0 0.0\n",
        "sol[\"z\"] =  [ 3.94e+00  1.56e+00  2.20e-07]\n",
        "\n",
        "p_pr =  7.44444659307\n",
        "p_ex =  7.44444659307\n",
        "     pcost       dcost       gap    pres   dres\n",
        " 0:  4.9219e+00  7.4793e+00  2e+01  5e-01  1e+01\n",
        " 1:  8.5918e+00  6.9392e+00  2e+00  2e-16  5e-15\n",
        " 2:  7.6223e+00  7.5948e+00  3e-02  9e-17  4e-15\n",
        " 3:  7.6013e+00  7.6010e+00  3e-04  8e-17  5e-15\n",
        " 4:  7.6011e+00  7.6011e+00  3e-06  5e-17  5e-15\n",
        "Optimal solution found.\n",
        "0.0 -0.1\n",
        "sol[\"z\"] =  [ 3.97e+00  1.58e+00  2.24e-07]\n",
        "\n",
        "p_pr =  7.60000217864\n",
        "p_ex =  7.60111322546\n",
        "     pcost       dcost       gap    pres   dres\n",
        " 0:  4.7849e+00  7.0345e+00  2e+01  5e-01  1e+01\n",
        " 1:  8.2832e+00  6.6413e+00  2e+00  2e-16  3e-15\n",
        " 2:  7.3118e+00  7.2838e+00  3e-02  1e-16  6e-15\n",
        " 3:  7.2902e+00  7.2899e+00  3e-04  2e-16  2e-15\n",
        " 4:  7.2900e+00  7.2900e+00  3e-06  4e-17  3e-15\n",
        "Optimal solution found.\n",
        "0.0 0.1\n",
        "sol[\"z\"] =  [ 3.92e+00  1.53e+00  2.16e-07]\n",
        "\n",
        "p_pr =  7.2888910075\n",
        "p_ex =  7.29000218376\n",
        "     pcost       dcost       gap    pres   dres\n",
        " 0:  4.9536e+00  7.7564e+00  2e+01  5e-01  1e+01\n",
        " 1:  8.8083e+00  7.1767e+00  2e+00  9e-17  7e-15\n",
        " 2:  7.8652e+00  7.8386e+00  3e-02  4e-17  9e-16\n",
        " 3:  7.8452e+00  7.8449e+00  3e-04  5e-17  2e-15\n",
        " 4:  7.8450e+00  7.8450e+00  3e-06  2e-16  6e-15\n",
        "Optimal solution found.\n",
        "-0.1 0.0\n",
        "sol[\"z\"] =  [ 4.07e+00  1.58e+00  2.32e-07]\n",
        "\n",
        "p_pr =  7.83889110207\n",
        "p_ex =  7.84500202026\n",
        "     pcost       dcost       gap    pres   dres\n",
        " 0:  5.0228e+00  7.9806e+00  2e+01  5e-01  1e+01\n",
        " 1:  8.9665e+00  7.3298e+00  2e+00  4e-16  5e-15\n",
        " 2:  8.0243e+00  7.9980e+00  3e-02  6e-17  1e-15\n",
        " 3:  8.0046e+00  8.0044e+00  3e-04  2e-16  2e-16\n",
        " 4:  8.0044e+00  8.0044e+00  3e-06  2e-16  7e-15\n",
        "Optimal solution found.\n",
        "-0.1 -0.1\n",
        "sol[\"z\"] =  [ 4.09e+00  1.61e+00  2.36e-07]\n",
        "\n",
        "p_pr =  7.99444668763\n",
        "p_ex =  8.00444643371\n",
        "     pcost       dcost       gap    pres   dres\n",
        " 0:  4.8856e+00  7.5339e+00  2e+01  5e-01  1e+01\n",
        " 1:  8.6522e+00  7.0259e+00  2e+00  1e-16  4e-15\n",
        " 2:  7.7083e+00  7.6815e+00  3e-02  4e-17  4e-15\n",
        " 3:  7.6880e+00  7.6877e+00  3e-04  1e-16  2e-15\n",
        " 4:  7.6878e+00  7.6878e+00  3e-06  9e-17  4e-15\n",
        "Optimal solution found.\n",
        "-0.1 0.1\n",
        "sol[\"z\"] =  [ 4.04e+00  1.56e+00  2.28e-07]\n",
        "\n",
        "p_pr =  7.6833355165\n",
        "p_ex =  7.68777982981\n",
        "     pcost       dcost       gap    pres   dres\n",
        " 0:  4.7533e+00  6.7612e+00  2e+01  5e-01  1e+01\n",
        " 1:  8.0789e+00  6.4139e+00  2e+00  5e-17  4e-15\n",
        " 2:  7.0791e+00  7.0500e+00  3e-02  6e-17  2e-15\n",
        " 3:  7.0563e+00  7.0561e+00  3e-04  9e-17  2e-15\n",
        " 4:  7.0561e+00  7.0561e+00  3e-06  8e-17  1e-15\n",
        "Optimal solution found.\n",
        "0.1 0.0\n",
        "sol[\"z\"] =  [ 3.82e+00  1.53e+00  2.08e-07]\n",
        "\n",
        "p_pr =  7.05000208407\n",
        "p_ex =  7.05611340747\n",
        "     pcost       dcost       gap    pres   dres\n",
        " 0:  4.8223e+00  6.9835e+00  2e+01  5e-01  1e+01\n",
        " 1:  8.2314e+00  6.5610e+00  2e+00  1e-16  2e-15\n",
        " 2:  7.2326e+00  7.2038e+00  3e-02  7e-17  3e-15\n",
        " 3:  7.2102e+00  7.2099e+00  3e-04  8e-17  4e-15\n",
        " 4:  7.2100e+00  7.2100e+00  3e-06  7e-17  2e-15\n",
        "Optimal solution found.\n",
        "0.1 -0.1\n",
        "sol[\"z\"] =  [ 3.85e+00  1.55e+00  2.12e-07]\n",
        "\n",
        "p_pr =  7.20555766964\n",
        "p_ex =  7.21000225838\n",
        "     pcost       dcost       gap    pres   dres\n",
        " 0:  4.6856e+00  6.5406e+00  2e+01  5e-01  1e+01\n",
        " 1:  7.9284e+00  6.2690e+00  2e+00  2e-16  8e-15\n",
        " 2:  6.9278e+00  6.8984e+00  3e-02  2e-16  5e-15\n",
        " 3:  6.9047e+00  6.9044e+00  3e-04  1e-16  3e-15\n",
        " 4:  6.9044e+00  6.9044e+00  3e-06  5e-17  3e-15\n",
        "Optimal solution found.\n",
        "0.1 0.1\n",
        "sol[\"z\"] =  [ 3.79e+00  1.51e+00  2.04e-07]\n",
        "\n",
        "p_pr =  6.8944464985\n",
        "p_ex =  6.90444677972\n"
       ]
      },
      {
       "html": [
        "<div style=\"max-height:1000px;max-width:1500px;overflow:auto;\">\n",
        "<table border=\"1\" class=\"dataframe\">\n",
        "  <thead>\n",
        "    <tr style=\"text-align: right;\">\n",
        "      <th></th>\n",
        "      <th>diff</th>\n",
        "      <th>p_exact</th>\n",
        "      <th>p_pred</th>\n",
        "    </tr>\n",
        "  </thead>\n",
        "  <tbody>\n",
        "    <tr>\n",
        "      <th>0</th>\n",
        "      <td> 0.000000</td>\n",
        "      <td> 7.444447</td>\n",
        "      <td> 7.444447</td>\n",
        "    </tr>\n",
        "    <tr>\n",
        "      <th>1</th>\n",
        "      <td> 0.001111</td>\n",
        "      <td> 7.601113</td>\n",
        "      <td> 7.600002</td>\n",
        "    </tr>\n",
        "    <tr>\n",
        "      <th>2</th>\n",
        "      <td> 0.001111</td>\n",
        "      <td> 7.290002</td>\n",
        "      <td> 7.288891</td>\n",
        "    </tr>\n",
        "    <tr>\n",
        "      <th>3</th>\n",
        "      <td> 0.006111</td>\n",
        "      <td> 7.845002</td>\n",
        "      <td> 7.838891</td>\n",
        "    </tr>\n",
        "    <tr>\n",
        "      <th>4</th>\n",
        "      <td> 0.010000</td>\n",
        "      <td> 8.004446</td>\n",
        "      <td> 7.994447</td>\n",
        "    </tr>\n",
        "    <tr>\n",
        "      <th>5</th>\n",
        "      <td> 0.004444</td>\n",
        "      <td> 7.687780</td>\n",
        "      <td> 7.683336</td>\n",
        "    </tr>\n",
        "    <tr>\n",
        "      <th>6</th>\n",
        "      <td> 0.006111</td>\n",
        "      <td> 7.056113</td>\n",
        "      <td> 7.050002</td>\n",
        "    </tr>\n",
        "    <tr>\n",
        "      <th>7</th>\n",
        "      <td> 0.004445</td>\n",
        "      <td> 7.210002</td>\n",
        "      <td> 7.205558</td>\n",
        "    </tr>\n",
        "    <tr>\n",
        "      <th>8</th>\n",
        "      <td> 0.010000</td>\n",
        "      <td> 6.904447</td>\n",
        "      <td> 6.894446</td>\n",
        "    </tr>\n",
        "  </tbody>\n",
        "</table>\n",
        "<p>9 rows \u00d7 3 columns</p>\n",
        "</div>"
       ],
       "metadata": {},
       "output_type": "pyout",
       "prompt_number": 133,
       "text": [
        "       diff   p_exact    p_pred\n",
        "0  0.000000  7.444447  7.444447\n",
        "1  0.001111  7.601113  7.600002\n",
        "2  0.001111  7.290002  7.288891\n",
        "3  0.006111  7.845002  7.838891\n",
        "4  0.010000  8.004446  7.994447\n",
        "5  0.004444  7.687780  7.683336\n",
        "6  0.006111  7.056113  7.050002\n",
        "7  0.004445  7.210002  7.205558\n",
        "8  0.010000  6.904447  6.894446\n",
        "\n",
        "[9 rows x 3 columns]"
       ]
      }
     ],
     "prompt_number": 133
    },
    {
     "cell_type": "code",
     "collapsed": false,
     "input": [
      "final_df = pd.concat([df,result_df],axis=1)\n",
      "final_df"
     ],
     "language": "python",
     "metadata": {},
     "outputs": [
      {
       "html": [
        "<div style=\"max-height:1000px;max-width:1500px;overflow:auto;\">\n",
        "<table border=\"1\" class=\"dataframe\">\n",
        "  <thead>\n",
        "    <tr style=\"text-align: right;\">\n",
        "      <th></th>\n",
        "      <th>d1</th>\n",
        "      <th>d2</th>\n",
        "      <th>diff</th>\n",
        "      <th>p_exact</th>\n",
        "      <th>p_pred</th>\n",
        "    </tr>\n",
        "  </thead>\n",
        "  <tbody>\n",
        "    <tr>\n",
        "      <th>0</th>\n",
        "      <td> 0.0</td>\n",
        "      <td> 0.0</td>\n",
        "      <td> 0.000000</td>\n",
        "      <td> 7.444447</td>\n",
        "      <td> 7.444447</td>\n",
        "    </tr>\n",
        "    <tr>\n",
        "      <th>1</th>\n",
        "      <td> 0.0</td>\n",
        "      <td>-0.1</td>\n",
        "      <td> 0.001111</td>\n",
        "      <td> 7.601113</td>\n",
        "      <td> 7.600002</td>\n",
        "    </tr>\n",
        "    <tr>\n",
        "      <th>2</th>\n",
        "      <td> 0.0</td>\n",
        "      <td> 0.1</td>\n",
        "      <td> 0.001111</td>\n",
        "      <td> 7.290002</td>\n",
        "      <td> 7.288891</td>\n",
        "    </tr>\n",
        "    <tr>\n",
        "      <th>3</th>\n",
        "      <td>-0.1</td>\n",
        "      <td> 0.0</td>\n",
        "      <td> 0.006111</td>\n",
        "      <td> 7.845002</td>\n",
        "      <td> 7.838891</td>\n",
        "    </tr>\n",
        "    <tr>\n",
        "      <th>4</th>\n",
        "      <td>-0.1</td>\n",
        "      <td>-0.1</td>\n",
        "      <td> 0.010000</td>\n",
        "      <td> 8.004446</td>\n",
        "      <td> 7.994447</td>\n",
        "    </tr>\n",
        "    <tr>\n",
        "      <th>5</th>\n",
        "      <td>-0.1</td>\n",
        "      <td> 0.1</td>\n",
        "      <td> 0.004444</td>\n",
        "      <td> 7.687780</td>\n",
        "      <td> 7.683336</td>\n",
        "    </tr>\n",
        "    <tr>\n",
        "      <th>6</th>\n",
        "      <td> 0.1</td>\n",
        "      <td> 0.0</td>\n",
        "      <td> 0.006111</td>\n",
        "      <td> 7.056113</td>\n",
        "      <td> 7.050002</td>\n",
        "    </tr>\n",
        "    <tr>\n",
        "      <th>7</th>\n",
        "      <td> 0.1</td>\n",
        "      <td>-0.1</td>\n",
        "      <td> 0.004445</td>\n",
        "      <td> 7.210002</td>\n",
        "      <td> 7.205558</td>\n",
        "    </tr>\n",
        "    <tr>\n",
        "      <th>8</th>\n",
        "      <td> 0.1</td>\n",
        "      <td> 0.1</td>\n",
        "      <td> 0.010000</td>\n",
        "      <td> 6.904447</td>\n",
        "      <td> 6.894446</td>\n",
        "    </tr>\n",
        "  </tbody>\n",
        "</table>\n",
        "<p>9 rows \u00d7 5 columns</p>\n",
        "</div>"
       ],
       "metadata": {},
       "output_type": "pyout",
       "prompt_number": 136,
       "text": [
        "    d1   d2      diff   p_exact    p_pred\n",
        "0  0.0  0.0  0.000000  7.444447  7.444447\n",
        "1  0.0 -0.1  0.001111  7.601113  7.600002\n",
        "2  0.0  0.1  0.001111  7.290002  7.288891\n",
        "3 -0.1  0.0  0.006111  7.845002  7.838891\n",
        "4 -0.1 -0.1  0.010000  8.004446  7.994447\n",
        "5 -0.1  0.1  0.004444  7.687780  7.683336\n",
        "6  0.1  0.0  0.006111  7.056113  7.050002\n",
        "7  0.1 -0.1  0.004445  7.210002  7.205558\n",
        "8  0.1  0.1  0.010000  6.904447  6.894446\n",
        "\n",
        "[9 rows x 5 columns]"
       ]
      }
     ],
     "prompt_number": 136
    },
    {
     "cell_type": "code",
     "collapsed": false,
     "input": [],
     "language": "python",
     "metadata": {},
     "outputs": [],
     "prompt_number": 13
    },
    {
     "cell_type": "code",
     "collapsed": false,
     "input": [
      "final_df[\"diff\"] == np.min(final_df[\"diff\"][1:])"
     ],
     "language": "python",
     "metadata": {},
     "outputs": [
      {
       "metadata": {},
       "output_type": "pyout",
       "prompt_number": 142,
       "text": [
        "0    False\n",
        "1     True\n",
        "2    False\n",
        "3    False\n",
        "4    False\n",
        "5    False\n",
        "6    False\n",
        "7    False\n",
        "8    False\n",
        "Name: diff, dtype: bool"
       ]
      }
     ],
     "prompt_number": 142
    },
    {
     "cell_type": "code",
     "collapsed": false,
     "input": [],
     "language": "python",
     "metadata": {},
     "outputs": []
    }
   ],
   "metadata": {}
  }
 ]
}