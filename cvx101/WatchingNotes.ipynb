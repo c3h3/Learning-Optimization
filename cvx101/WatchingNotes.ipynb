{
 "metadata": {
  "name": ""
 },
 "nbformat": 3,
 "nbformat_minor": 0,
 "worksheets": [
  {
   "cells": [
    {
     "cell_type": "code",
     "collapsed": false,
     "input": [
      "%matplotlib inline"
     ],
     "language": "python",
     "metadata": {},
     "outputs": [],
     "prompt_number": 1
    },
    {
     "cell_type": "code",
     "collapsed": false,
     "input": [
      "import matplotlib.pylab as pylab\n",
      "pylab.rcParams['figure.figsize'] = 16, 12"
     ],
     "language": "python",
     "metadata": {},
     "outputs": [],
     "prompt_number": 2
    },
    {
     "cell_type": "markdown",
     "metadata": {},
     "source": [
      "# Lecture 2: Convex Sets"
     ]
    },
    {
     "cell_type": "markdown",
     "metadata": {},
     "source": [
      "## [Hw] Draw the intersection of convex set example"
     ]
    },
    {
     "cell_type": "markdown",
     "metadata": {},
     "source": [
      "http://see.stanford.edu/materials/lsocoee364a/hw1sol.pdf"
     ]
    },
    {
     "cell_type": "code",
     "collapsed": false,
     "input": [],
     "language": "python",
     "metadata": {},
     "outputs": []
    },
    {
     "cell_type": "code",
     "collapsed": false,
     "input": [],
     "language": "python",
     "metadata": {},
     "outputs": []
    },
    {
     "cell_type": "markdown",
     "metadata": {},
     "source": [
      "(42:00)"
     ]
    },
    {
     "cell_type": "markdown",
     "metadata": {},
     "source": [
      "# Lecture 3"
     ]
    },
    {
     "cell_type": "markdown",
     "metadata": {},
     "source": [
      "(1:28:12)"
     ]
    },
    {
     "cell_type": "markdown",
     "metadata": {},
     "source": [
      "http://www.ece.ucsb.edu/~roy/classnotes/271a/ECE271a_lecture5_small.pdf"
     ]
    },
    {
     "cell_type": "markdown",
     "metadata": {},
     "source": [
      "# Lecture 4"
     ]
    },
    {
     "cell_type": "markdown",
     "metadata": {},
     "source": [
      "## Hw: Why linear fractional programming equivalent to LP? (1:20:48)"
     ]
    },
    {
     "cell_type": "markdown",
     "metadata": {},
     "source": [
      "### Linear Robust Programming (1:42:41)"
     ]
    },
    {
     "cell_type": "markdown",
     "metadata": {},
     "source": [
      "# Hw 3:"
     ]
    },
    {
     "cell_type": "code",
     "collapsed": false,
     "input": [
      "import numpy as np"
     ],
     "language": "python",
     "metadata": {},
     "outputs": [],
     "prompt_number": 3
    },
    {
     "cell_type": "code",
     "collapsed": false,
     "input": [
      "test_rand = np.random.rand(1000)\n",
      "pylab.hist(test_rand)"
     ],
     "language": "python",
     "metadata": {},
     "outputs": [
      {
       "metadata": {},
       "output_type": "pyout",
       "prompt_number": 10,
       "text": [
        "(array([  98.,  102.,   94.,   99.,   92.,   90.,  107.,  106.,  114.,   98.]),\n",
        " array([ 0.00305629,  0.10274775,  0.2024392 ,  0.30213065,  0.4018221 ,\n",
        "         0.50151356,  0.60120501,  0.70089646,  0.80058791,  0.90027937,\n",
        "         0.99997082]),\n",
        " <a list of 10 Patch objects>)"
       ]
      },
      {
       "metadata": {},
       "output_type": "display_data",
       "png": "[encoded data removed]",
       "text": [
        "<matplotlib.figure.Figure at 0x44f3c10>"
       ]
      }
     ],
     "prompt_number": 10
    },
    {
     "cell_type": "code",
     "collapsed": false,
     "input": [
      "n=100\n",
      "m=300\n",
      "A=np.random.rand(m,n)\n",
      "A.shape"
     ],
     "language": "python",
     "metadata": {},
     "outputs": [
      {
       "metadata": {},
       "output_type": "pyout",
       "prompt_number": 143,
       "text": [
        "(300, 100)"
       ]
      }
     ],
     "prompt_number": 143
    },
    {
     "cell_type": "code",
     "collapsed": false,
     "input": [
      "np.ones(n).shape"
     ],
     "language": "python",
     "metadata": {},
     "outputs": [
      {
       "metadata": {},
       "output_type": "pyout",
       "prompt_number": 144,
       "text": [
        "(100,)"
       ]
      }
     ],
     "prompt_number": 144
    },
    {
     "cell_type": "code",
     "collapsed": false,
     "input": [
      "b = np.dot(A,np.ones(n)) /2\n",
      "b.shape"
     ],
     "language": "python",
     "metadata": {},
     "outputs": [
      {
       "metadata": {},
       "output_type": "pyout",
       "prompt_number": 145,
       "text": [
        "(300,)"
       ]
      }
     ],
     "prompt_number": 145
    },
    {
     "cell_type": "code",
     "collapsed": false,
     "input": [
      "c=-np.random.rand(n);\n",
      "c.shape"
     ],
     "language": "python",
     "metadata": {},
     "outputs": [
      {
       "metadata": {},
       "output_type": "pyout",
       "prompt_number": 146,
       "text": [
        "(100,)"
       ]
      }
     ],
     "prompt_number": 146
    },
    {
     "cell_type": "markdown",
     "metadata": {},
     "source": [
      "# Linear Programming Example:"
     ]
    },
    {
     "cell_type": "code",
     "collapsed": false,
     "input": [
      "from cvxopt import matrix, solvers\n",
      "A = matrix(A)\n",
      "A"
     ],
     "language": "python",
     "metadata": {},
     "outputs": [
      {
       "metadata": {},
       "output_type": "pyout",
       "prompt_number": 147,
       "text": [
        "<300x100 matrix, tc='d'>"
       ]
      }
     ],
     "prompt_number": 147
    },
    {
     "cell_type": "code",
     "collapsed": false,
     "input": [
      "b = matrix(b)\n",
      "b"
     ],
     "language": "python",
     "metadata": {},
     "outputs": [
      {
       "metadata": {},
       "output_type": "pyout",
       "prompt_number": 148,
       "text": [
        "<300x1 matrix, tc='d'>"
       ]
      }
     ],
     "prompt_number": 148
    },
    {
     "cell_type": "code",
     "collapsed": false,
     "input": [
      "c = matrix(c)\n",
      "c"
     ],
     "language": "python",
     "metadata": {},
     "outputs": [
      {
       "metadata": {},
       "output_type": "pyout",
       "prompt_number": 149,
       "text": [
        "<100x1 matrix, tc='d'>"
       ]
      }
     ],
     "prompt_number": 149
    },
    {
     "cell_type": "code",
     "collapsed": false,
     "input": [
      "A_tmp = np.r_[A,np.eye(n),-np.eye(n)]\n",
      "print A_tmp.shape\n",
      "A_tmp.T.shape"
     ],
     "language": "python",
     "metadata": {},
     "outputs": [
      {
       "output_type": "stream",
       "stream": "stdout",
       "text": [
        "(500, 100)\n"
       ]
      },
      {
       "metadata": {},
       "output_type": "pyout",
       "prompt_number": 150,
       "text": [
        "(100, 500)"
       ]
      }
     ],
     "prompt_number": 150
    },
    {
     "cell_type": "code",
     "collapsed": false,
     "input": [
      "A_f = matrix(A_tmp)\n",
      "A_f"
     ],
     "language": "python",
     "metadata": {},
     "outputs": [
      {
       "metadata": {},
       "output_type": "pyout",
       "prompt_number": 151,
       "text": [
        "<500x100 matrix, tc='d'>"
       ]
      }
     ],
     "prompt_number": 151
    },
    {
     "cell_type": "code",
     "collapsed": false,
     "input": [],
     "language": "python",
     "metadata": {},
     "outputs": [],
     "prompt_number": 151
    },
    {
     "cell_type": "code",
     "collapsed": false,
     "input": [
      "b_f = matrix(np.r_[b,matrix(np.ones(n)),matrix(np.zeros(n))])\n",
      "b_f"
     ],
     "language": "python",
     "metadata": {},
     "outputs": [
      {
       "metadata": {},
       "output_type": "pyout",
       "prompt_number": 152,
       "text": [
        "<500x1 matrix, tc='d'>"
       ]
      }
     ],
     "prompt_number": 152
    },
    {
     "cell_type": "code",
     "collapsed": false,
     "input": [
      "sol = solvers.lp(c, A_f, b_f)"
     ],
     "language": "python",
     "metadata": {},
     "outputs": [
      {
       "output_type": "stream",
       "stream": "stdout",
       "text": [
        "     pcost       dcost       gap    pres   dres   k/t\n",
        " 0: -2.3019e+01 -8.3373e+03  7e+02  5e-02  3e+02  1e+00\n",
        " 1: -2.3612e+01 -1.0670e+03  3e+01  6e-03  4e+01  2e+00\n",
        " 2: -2.5938e+01 -3.2113e+02  1e+01  2e-03  1e+01  9e-01\n",
        " 3: -2.9530e+01 -2.1476e+02  1e+01  1e-03  7e+00  8e-01\n",
        " 4: -3.0683e+01 -1.4152e+02  8e+00  7e-04  4e+00  5e-01\n",
        " 5: -3.1697e+01 -9.2019e+01  6e+00  4e-04  2e+00  2e-01\n",
        " 6: -3.2285e+01 -6.1358e+01  3e+00  2e-04  1e+00  1e-01\n",
        " 7: -3.2650e+01 -4.1864e+01  1e+00  6e-05  3e-01  3e-02\n",
        " 8: -3.2757e+01 -3.7040e+01  5e-01  3e-05  2e-01  8e-03\n",
        " 9: -3.2816e+01 -3.4194e+01  2e-01  9e-06  5e-02  2e-03\n",
        "10: -3.2835e+01 -3.3264e+01  5e-02  3e-06  2e-02  9e-05\n",
        "11: -3.2845e+01 -3.2855e+01  1e-03  7e-08  4e-04  2e-06\n",
        "12: -3.2845e+01 -3.2845e+01  1e-05  7e-10  4e-06  2e-08\n",
        "13: -3.2845e+01 -3.2845e+01  1e-07  7e-12  4e-08  2e-10\n",
        "Optimal solution found.\n"
       ]
      }
     ],
     "prompt_number": 153
    },
    {
     "cell_type": "code",
     "collapsed": false,
     "input": [
      "(c.T*sol[\"x\"])[0]"
     ],
     "language": "python",
     "metadata": {},
     "outputs": [
      {
       "metadata": {},
       "output_type": "pyout",
       "prompt_number": 161,
       "text": [
        "-32.84476697647193"
       ]
      }
     ],
     "prompt_number": 161
    },
    {
     "cell_type": "code",
     "collapsed": false,
     "input": [],
     "language": "python",
     "metadata": {},
     "outputs": []
    },
    {
     "cell_type": "code",
     "collapsed": false,
     "input": [
      "n=100\n",
      "m=300\n",
      "A=np.random.rand(m,n)\n",
      "b = np.dot(A,np.ones(n)) /2\n",
      "c=-np.random.rand(n);\n",
      "\n",
      "from cvxopt import matrix, solvers\n",
      "A = matrix(A)\n",
      "b = matrix(b)\n",
      "c = matrix(c)\n",
      "\n",
      "A_tmp = np.r_[A,np.eye(n),-np.eye(n)]\n",
      "A_f = matrix(A_tmp)\n",
      "\n",
      "b_f = matrix(np.r_[b,matrix(np.ones(n)),matrix(np.zeros(n))])\n",
      "\n",
      "sol = solvers.lp(c, A_f, b_f)\n",
      "\n",
      "(c.T*sol[\"x\"])[0]"
     ],
     "language": "python",
     "metadata": {},
     "outputs": [
      {
       "output_type": "stream",
       "stream": "stdout",
       "text": [
        "     pcost       dcost       gap    pres   dres   k/t\n",
        " 0: -2.7706e+01 -8.1515e+03  6e+02  5e-02  3e+02  1e+00\n",
        " 1: -2.8013e+01 -1.0421e+03  3e+01  6e-03  3e+01  2e+00\n",
        " 2: -2.9575e+01 -2.8858e+02  9e+00  2e-03  8e+00  8e-01\n",
        " 3: -3.1882e+01 -2.2229e+02  1e+01  1e-03  6e+00  7e-01\n",
        " 4: -3.3519e+01 -1.3844e+02  8e+00  7e-04  3e+00  4e-01\n",
        " 5: -3.4391e+01 -8.8281e+01  5e+00  3e-04  2e+00  1e-01\n",
        " 6: -3.4886e+01 -5.9880e+01  2e+00  2e-04  8e-01  5e-02\n",
        " 7: -3.5154e+01 -4.3324e+01  8e-01  5e-05  3e-01  1e-02\n",
        " 8: -3.5234e+01 -3.9122e+01  4e-01  2e-05  1e-01  4e-03\n",
        " 9: -3.5275e+01 -3.6811e+01  2e-01  1e-05  5e-02  1e-03\n",
        "10: -3.5296e+01 -3.5605e+01  3e-02  2e-06  1e-02  9e-05\n",
        "11: -3.5300e+01 -3.5413e+01  1e-02  7e-07  4e-03  3e-05\n",
        "12: -3.5302e+01 -3.5330e+01  3e-03  2e-07  9e-04  8e-06\n",
        "13: -3.5302e+01 -3.5303e+01  9e-05  5e-09  3e-05  2e-07\n",
        "14: -3.5302e+01 -3.5302e+01  9e-07  5e-11  3e-07  2e-09\n",
        "15: -3.5302e+01 -3.5302e+01  9e-09  5e-13  3e-09  2e-11\n",
        "Optimal solution found.\n"
       ]
      },
      {
       "metadata": {},
       "output_type": "pyout",
       "prompt_number": 165,
       "text": [
        "-35.30242535948621"
       ]
      }
     ],
     "prompt_number": 165
    },
    {
     "cell_type": "markdown",
     "metadata": {},
     "source": [
      "## Trying:"
     ]
    },
    {
     "cell_type": "code",
     "collapsed": false,
     "input": [
      "t1 = matrix(np.matrix([[1,2],[3,4]]))\n",
      "print t1"
     ],
     "language": "python",
     "metadata": {},
     "outputs": [
      {
       "output_type": "stream",
       "stream": "stdout",
       "text": [
        "[ 1  2]\n",
        "[ 3  4]\n",
        "\n"
       ]
      }
     ],
     "prompt_number": 61
    },
    {
     "cell_type": "code",
     "collapsed": false,
     "input": [
      "t2 = matrix(-np.eye(2))\n",
      "print t2"
     ],
     "language": "python",
     "metadata": {},
     "outputs": [
      {
       "output_type": "stream",
       "stream": "stdout",
       "text": [
        "[-1.00e+00 -0.00e+00]\n",
        "[-0.00e+00 -1.00e+00]\n",
        "\n"
       ]
      }
     ],
     "prompt_number": 60
    },
    {
     "cell_type": "code",
     "collapsed": false,
     "input": [
      "print matrix(np.r_[t1,t2])\n"
     ],
     "language": "python",
     "metadata": {},
     "outputs": [
      {
       "output_type": "stream",
       "stream": "stdout",
       "text": [
        "[ 1.00e+00  2.00e+00]\n",
        "[ 3.00e+00  4.00e+00]\n",
        "[-1.00e+00 -0.00e+00]\n",
        "[-0.00e+00 -1.00e+00]\n",
        "\n"
       ]
      }
     ],
     "prompt_number": 59
    },
    {
     "cell_type": "code",
     "collapsed": false,
     "input": [
      "print matrix(np.c_[t1,t2])"
     ],
     "language": "python",
     "metadata": {},
     "outputs": [
      {
       "output_type": "stream",
       "stream": "stdout",
       "text": [
        "[ 1.00e+00  2.00e+00 -1.00e+00 -0.00e+00]\n",
        "[ 3.00e+00  4.00e+00 -0.00e+00 -1.00e+00]\n",
        "\n"
       ]
      }
     ],
     "prompt_number": 62
    },
    {
     "cell_type": "markdown",
     "metadata": {},
     "source": [
      "# Example:"
     ]
    },
    {
     "cell_type": "code",
     "collapsed": false,
     "input": [
      "cc = matrix([-4., -5.])\n",
      "cc"
     ],
     "language": "python",
     "metadata": {},
     "outputs": [
      {
       "metadata": {},
       "output_type": "pyout",
       "prompt_number": 130,
       "text": [
        "<2x1 matrix, tc='d'>"
       ]
      }
     ],
     "prompt_number": 130
    },
    {
     "cell_type": "code",
     "collapsed": false,
     "input": [
      "GG = matrix([[2., 1., -1., 0.], [1., 2., 0., -1.]])\n",
      "GG"
     ],
     "language": "python",
     "metadata": {},
     "outputs": [
      {
       "metadata": {},
       "output_type": "pyout",
       "prompt_number": 127,
       "text": [
        "<4x2 matrix, tc='d'>"
       ]
      }
     ],
     "prompt_number": 127
    },
    {
     "cell_type": "code",
     "collapsed": false,
     "input": [
      "hh = matrix([3., 3., 0., 0.])\n",
      "hh"
     ],
     "language": "python",
     "metadata": {},
     "outputs": [
      {
       "metadata": {},
       "output_type": "pyout",
       "prompt_number": 129,
       "text": [
        "<4x1 matrix, tc='d'>"
       ]
      }
     ],
     "prompt_number": 129
    },
    {
     "cell_type": "code",
     "collapsed": false,
     "input": [
      "ssol = solvers.lp(cc, GG, hh)"
     ],
     "language": "python",
     "metadata": {},
     "outputs": [
      {
       "output_type": "stream",
       "stream": "stdout",
       "text": [
        "     pcost       dcost       gap    pres   dres   k/t\n",
        " 0: -8.1000e+00 -1.8300e+01  4e+00  0e+00  8e-01  1e+00\n",
        " 1: -8.8055e+00 -9.4357e+00  2e-01  4e-16  4e-02  3e-02\n",
        " 2: -8.9981e+00 -9.0049e+00  2e-03  2e-16  5e-04  4e-04\n",
        " 3: -9.0000e+00 -9.0000e+00  2e-05  6e-16  5e-06  4e-06\n",
        " 4: -9.0000e+00 -9.0000e+00  2e-07  1e-16  5e-08  4e-08\n",
        "Optimal solution found.\n"
       ]
      }
     ],
     "prompt_number": 131
    },
    {
     "cell_type": "code",
     "collapsed": false,
     "input": [
      "print ssol[\"x\"]"
     ],
     "language": "python",
     "metadata": {},
     "outputs": [
      {
       "output_type": "stream",
       "stream": "stdout",
       "text": [
        "[ 1.00e+00]\n",
        "[ 1.00e+00]\n",
        "\n"
       ]
      }
     ],
     "prompt_number": 133
    },
    {
     "cell_type": "code",
     "collapsed": false,
     "input": [],
     "language": "python",
     "metadata": {},
     "outputs": []
    }
   ],
   "metadata": {}
  }
 ]
}