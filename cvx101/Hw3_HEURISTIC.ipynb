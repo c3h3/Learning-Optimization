{
 "metadata": {
  "name": ""
 },
 "nbformat": 3,
 "nbformat_minor": 0,
 "worksheets": [
  {
   "cells": [
    {
     "cell_type": "code",
     "collapsed": false,
     "input": [
      "%matplotlib inline"
     ],
     "language": "python",
     "metadata": {},
     "outputs": [],
     "prompt_number": 2
    },
    {
     "cell_type": "code",
     "collapsed": false,
     "input": [
      "import matplotlib.pylab as pylab\n",
      "pylab.rcParams['figure.figsize'] = 16, 12"
     ],
     "language": "python",
     "metadata": {},
     "outputs": [],
     "prompt_number": 3
    },
    {
     "cell_type": "markdown",
     "metadata": {},
     "source": [
      "# Pure Python Solution:"
     ]
    },
    {
     "cell_type": "code",
     "collapsed": false,
     "input": [
      "import numpy as np\n",
      "from cvxopt import matrix, solvers\n",
      "\n",
      "np.random.seed(0)\n",
      "n=100\n",
      "m=300\n",
      "A_py=np.random.rand(m,n)\n",
      "b_py = np.dot(A_py,np.ones(n)) /2\n",
      "c_py=-np.random.rand(n);\n",
      "\n",
      "A_py = matrix(A_py)\n",
      "b_py = matrix(b_py)\n",
      "c_py = matrix(c_py)\n",
      "\n",
      "\n",
      "A_tmp = np.r_[A_py,np.eye(n),-np.eye(n)]\n",
      "A_f = matrix(A_tmp)\n",
      "b_f = matrix(np.r_[b_py,matrix(np.ones(n)),matrix(np.zeros(n))])\n",
      "sol = solvers.lp(c_py, A_f, b_f)\n",
      "x = sol[\"x\"]\n",
      "\n",
      "(c_py.T*x)[0]"
     ],
     "language": "python",
     "metadata": {},
     "outputs": [
      {
       "output_type": "stream",
       "stream": "stdout",
       "text": [
        "     pcost       dcost       gap    pres   dres   k/t\n",
        " 0: -2.4848e+01 -8.2790e+03  7e+02  5e-02  3e+02  1e+00\n",
        " 1: -2.5410e+01 -1.0606e+03  3e+01  7e-03  4e+01  2e+00\n",
        " 2: -2.7716e+01 -3.0461e+02  1e+01  2e-03  1e+01  9e-01\n",
        " 3: -3.1064e+01 -2.1864e+02  1e+01  1e-03  6e+00  8e-01\n",
        " 4: -3.2843e+01 -1.2482e+02  7e+00  6e-04  3e+00  3e-01\n",
        " 5: -3.3547e+01 -8.2675e+01  4e+00  3e-04  2e+00  1e-01\n",
        " 6: -3.4147e+01 -4.9375e+01  1e+00  1e-04  5e-01  3e-02\n",
        " 7: -3.4323e+01 -4.0147e+01  6e-01  4e-05  2e-01  7e-03\n",
        " 8: -3.4396e+01 -3.5615e+01  1e-01  8e-06  4e-02  1e-03\n",
        " 9: -3.4412e+01 -3.4701e+01  3e-02  2e-06  1e-02  2e-04\n",
        "10: -3.4416e+01 -3.4466e+01  5e-03  3e-07  2e-03  4e-05\n",
        "11: -3.4417e+01 -3.4418e+01  7e-05  5e-09  3e-05  4e-07\n",
        "12: -3.4417e+01 -3.4417e+01  7e-07  5e-11  3e-07  4e-09\n",
        "13: -3.4417e+01 -3.4417e+01  7e-09  5e-13  3e-09  4e-11\n",
        "Optimal solution found.\n"
       ]
      },
      {
       "metadata": {},
       "output_type": "pyout",
       "prompt_number": 4,
       "text": [
        "-34.41722426052155"
       ]
      }
     ],
     "prompt_number": 4
    },
    {
     "cell_type": "markdown",
     "metadata": {},
     "source": [
      "# Checking Feasibility:"
     ]
    },
    {
     "cell_type": "code",
     "collapsed": false,
     "input": [
      "print np.max(A_f*x - b_f)\n",
      "print np.max(np.dot(A_py,x) - b_py)"
     ],
     "language": "python",
     "metadata": {},
     "outputs": [
      {
       "output_type": "stream",
       "stream": "stdout",
       "text": [
        "-1.56266111162e-11\n",
        "-6.82405243424e-11\n"
       ]
      }
     ],
     "prompt_number": 5
    },
    {
     "cell_type": "code",
     "collapsed": false,
     "input": [
      "print np.max(x - np.array(x))"
     ],
     "language": "python",
     "metadata": {},
     "outputs": [
      {
       "output_type": "stream",
       "stream": "stdout",
       "text": [
        "0.0\n"
       ]
      }
     ],
     "prompt_number": 6
    },
    {
     "cell_type": "markdown",
     "metadata": {},
     "source": [
      "# With Matlab gen_ILP_data:"
     ]
    },
    {
     "cell_type": "code",
     "collapsed": false,
     "input": [
      "import scipy.io\n",
      "ilp_data_mat = scipy.io.loadmat('ILP_data.mat')\n",
      "ilp_data_mat.keys()"
     ],
     "language": "python",
     "metadata": {},
     "outputs": [
      {
       "metadata": {},
       "output_type": "pyout",
       "prompt_number": 7,
       "text": [
        "['A', 'c', 'b', '__globals__', 'm', '__header__', 'n', '__version__']"
       ]
      }
     ],
     "prompt_number": 7
    },
    {
     "cell_type": "code",
     "collapsed": false,
     "input": [
      "A_mat,b_mat,c_mat,m_mat,n_mat = ilp_data_mat[\"A\"], ilp_data_mat[\"b\"], ilp_data_mat[\"c\"], ilp_data_mat[\"m\"], ilp_data_mat[\"n\"]"
     ],
     "language": "python",
     "metadata": {},
     "outputs": [],
     "prompt_number": 8
    },
    {
     "cell_type": "code",
     "collapsed": false,
     "input": [
      "#print A_mat"
     ],
     "language": "python",
     "metadata": {},
     "outputs": [],
     "prompt_number": 9
    },
    {
     "cell_type": "code",
     "collapsed": false,
     "input": [
      "#print b_mat"
     ],
     "language": "python",
     "metadata": {},
     "outputs": [],
     "prompt_number": 10
    },
    {
     "cell_type": "code",
     "collapsed": false,
     "input": [
      "#print c_mat"
     ],
     "language": "python",
     "metadata": {},
     "outputs": [],
     "prompt_number": 11
    },
    {
     "cell_type": "code",
     "collapsed": false,
     "input": [
      "import numpy as np\n",
      "from cvxopt import matrix, solvers\n",
      "\n",
      "# np.random.seed(0)\n",
      "n=100\n",
      "m=300\n",
      "# A=np.random.rand(m,n)\n",
      "# b = np.dot(A,np.ones(n)) /2\n",
      "# c=-np.random.rand(n);\n",
      "\n",
      "A = A_mat.copy()\n",
      "b = b_mat.copy()\n",
      "c = c_mat.copy()\n"
     ],
     "language": "python",
     "metadata": {},
     "outputs": [],
     "prompt_number": 12
    },
    {
     "cell_type": "code",
     "collapsed": false,
     "input": [
      "c_f = matrix(c.tolist()).T\n",
      "c_f"
     ],
     "language": "python",
     "metadata": {},
     "outputs": [
      {
       "metadata": {},
       "output_type": "pyout",
       "prompt_number": 13,
       "text": [
        "<100x1 matrix, tc='d'>"
       ]
      }
     ],
     "prompt_number": 13
    },
    {
     "cell_type": "code",
     "collapsed": false,
     "input": [
      "A_tmp = np.r_[A,np.eye(n),-np.eye(n)]\n",
      "A_f = matrix(A_tmp)\n",
      "b_f = matrix(np.r_[b,matrix(np.ones(n)),matrix(np.zeros(n))])\n",
      "sol = solvers.lp(c_f, A_f, b_f)\n",
      "x = sol[\"x\"]\n",
      "\n",
      "(c_f.T*x)[0]"
     ],
     "language": "python",
     "metadata": {},
     "outputs": [
      {
       "output_type": "stream",
       "stream": "stdout",
       "text": [
        "     pcost       dcost       gap    pres   dres   k/t\n",
        " 0: -2.3600e+01 -8.3374e+03  7e+02  5e-02  3e+02  1e+00\n",
        " 1: -2.4162e+01 -1.0665e+03  3e+01  6e-03  4e+01  2e+00\n",
        " 2: -2.6427e+01 -3.1674e+02  1e+01  2e-03  1e+01  9e-01\n",
        " 3: -2.9825e+01 -2.2327e+02  1e+01  1e-03  7e+00  8e-01\n",
        " 4: -3.1171e+01 -1.4716e+02  8e+00  7e-04  4e+00  5e-01\n",
        " 5: -3.2087e+01 -9.0390e+01  5e+00  4e-04  2e+00  2e-01\n",
        " 6: -3.2673e+01 -5.9432e+01  2e+00  2e-04  1e+00  9e-02\n",
        " 7: -3.3021e+01 -4.1014e+01  8e-01  5e-05  3e-01  2e-02\n",
        " 8: -3.3099e+01 -3.6869e+01  4e-01  2e-05  1e-01  7e-03\n",
        " 9: -3.3150e+01 -3.4097e+01  1e-01  6e-06  3e-02  1e-03\n",
        "10: -3.3162e+01 -3.3453e+01  3e-02  2e-06  1e-02  3e-04\n",
        "11: -3.3166e+01 -3.3250e+01  9e-03  5e-07  3e-03  6e-05\n",
        "12: -3.3167e+01 -3.3170e+01  3e-04  2e-08  1e-04  1e-06\n",
        "13: -3.3167e+01 -3.3167e+01  3e-06  2e-10  1e-06  1e-08\n",
        "14: -3.3167e+01 -3.3167e+01  3e-08  2e-12  1e-08  1e-10\n",
        "Optimal solution found.\n"
       ]
      },
      {
       "metadata": {},
       "output_type": "pyout",
       "prompt_number": 14,
       "text": [
        "-33.167239603853055"
       ]
      }
     ],
     "prompt_number": 14
    },
    {
     "cell_type": "markdown",
     "metadata": {},
     "source": [
      "# Checking Feasibility:"
     ]
    },
    {
     "cell_type": "code",
     "collapsed": false,
     "input": [
      "print np.max(A_f*x - b_f)\n",
      "print np.max(np.dot(A,x) - b)"
     ],
     "language": "python",
     "metadata": {},
     "outputs": [
      {
       "output_type": "stream",
       "stream": "stdout",
       "text": [
        "-6.85884682383e-11\n",
        "-3.08546077576e-10\n"
       ]
      }
     ],
     "prompt_number": 15
    },
    {
     "cell_type": "code",
     "collapsed": false,
     "input": [],
     "language": "python",
     "metadata": {},
     "outputs": [],
     "prompt_number": 15
    },
    {
     "cell_type": "markdown",
     "metadata": {},
     "source": [
      "# Adjusting $\\vec{x}^{rlx}$ to $\\hat{x}$:"
     ]
    },
    {
     "cell_type": "code",
     "collapsed": false,
     "input": [
      "t_list = np.linspace(0,1,101)\n",
      "t_list[1:]"
     ],
     "language": "python",
     "metadata": {},
     "outputs": [
      {
       "metadata": {},
       "output_type": "pyout",
       "prompt_number": 16,
       "text": [
        "array([ 0.01,  0.02,  0.03,  0.04,  0.05,  0.06,  0.07,  0.08,  0.09,\n",
        "        0.1 ,  0.11,  0.12,  0.13,  0.14,  0.15,  0.16,  0.17,  0.18,\n",
        "        0.19,  0.2 ,  0.21,  0.22,  0.23,  0.24,  0.25,  0.26,  0.27,\n",
        "        0.28,  0.29,  0.3 ,  0.31,  0.32,  0.33,  0.34,  0.35,  0.36,\n",
        "        0.37,  0.38,  0.39,  0.4 ,  0.41,  0.42,  0.43,  0.44,  0.45,\n",
        "        0.46,  0.47,  0.48,  0.49,  0.5 ,  0.51,  0.52,  0.53,  0.54,\n",
        "        0.55,  0.56,  0.57,  0.58,  0.59,  0.6 ,  0.61,  0.62,  0.63,\n",
        "        0.64,  0.65,  0.66,  0.67,  0.68,  0.69,  0.7 ,  0.71,  0.72,\n",
        "        0.73,  0.74,  0.75,  0.76,  0.77,  0.78,  0.79,  0.8 ,  0.81,\n",
        "        0.82,  0.83,  0.84,  0.85,  0.86,  0.87,  0.88,  0.89,  0.9 ,\n",
        "        0.91,  0.92,  0.93,  0.94,  0.95,  0.96,  0.97,  0.98,  0.99,  1.  ])"
       ]
      }
     ],
     "prompt_number": 16
    },
    {
     "cell_type": "code",
     "collapsed": false,
     "input": [
      "# xx = np.array(x)\n",
      "# print xx - x"
     ],
     "language": "python",
     "metadata": {},
     "outputs": [],
     "prompt_number": 17
    },
    {
     "cell_type": "code",
     "collapsed": false,
     "input": [
      "xx = np.array(x)\n",
      "print \"np.max(xx -x) = \",np.max(xx -x)\n",
      "# xx = xx.reshape(n)\n",
      "# print \"np.max(xx -x) = \",np.max(xx -x)\n",
      "print xx.T.shape\n",
      "print \"np.multiply(A,xx.T).shape = \",np.dot(A,xx).shape\n",
      "print \"check feasibility:\",np.max(np.dot(A,xx) - b)\n",
      "\n",
      "cc = np.array(c)\n",
      "# cc = -np.array(c)\n",
      "# cc = cc.reshape(n)\n",
      "print cc.shape\n",
      "\n",
      "# L = np.dot(xx,cc)\n",
      "print np.dot(xx.T,cc)[0][0]\n",
      "L = np.dot(xx.T,cc)[0][0]\n",
      "print \"L = \",L\n",
      "\n"
     ],
     "language": "python",
     "metadata": {},
     "outputs": [
      {
       "output_type": "stream",
       "stream": "stdout",
       "text": [
        "np.max(xx -x) =  0.0\n",
        "(1, 100)\n",
        "np.multiply(A,xx.T).shape =  (300, 1)\n",
        "check feasibility: -3.08546077576e-10\n",
        "(100, 1)\n",
        "-33.1672396039\n",
        "L =  -33.1672396039\n"
       ]
      }
     ],
     "prompt_number": 18
    },
    {
     "cell_type": "code",
     "collapsed": false,
     "input": [
      "np.max(np.abs(xx - x))"
     ],
     "language": "python",
     "metadata": {},
     "outputs": [
      {
       "metadata": {},
       "output_type": "pyout",
       "prompt_number": 19,
       "text": [
        "0.0"
       ]
      }
     ],
     "prompt_number": 19
    },
    {
     "cell_type": "markdown",
     "metadata": {},
     "source": [
      "# BUG! BUG! BUG! BUG! BUG! BUG! BUG! BUG! BUG! BUG! "
     ]
    },
    {
     "cell_type": "code",
     "collapsed": false,
     "input": [
      "t = t_list[0]\n",
      "xx_temp = xx.copy()\n",
      "print \"check feasibility:\",np.max(np.dot(A,xx) - b )\n",
      "\n",
      "xx_temp[xx_temp >= t] = 1\n",
      "xx_temp[xx_temp < t] = 0\n",
      "# print xx_temp\n",
      "# print xx\n",
      "\n",
      "print A.shape\n",
      "print np.dot(A,xx_temp).shape\n",
      "\n",
      "U = np.dot(cc.T, xx_temp)\n",
      "MCV = np.max(np.dot(A,xx_temp) - b )\n",
      "\n",
      "U_list = [U[0][0]]\n",
      "MCV_list = [MCV]\n",
      "\n",
      "for t in t_list[1:]:\n",
      "    xx_temp = xx.copy()\n",
      "    xx_temp[xx_temp >= t] = 1\n",
      "    xx_temp[xx_temp < t] = 0\n",
      "    U = np.dot(cc.T, xx_temp)\n",
      "    MCV = np.max(np.dot(A,xx_temp) - b )\n",
      "    \n",
      "    U_list.append(U[0][0])\n",
      "    MCV_list.append(MCV)\n",
      "\n",
      "# print U_list\n",
      "# print MCV_list\n",
      "\n",
      "U_list = np.array(U_list)\n",
      "MCV_list = np.array(MCV_list)\n",
      "\n",
      "print len(U_list)\n",
      "print len(MCV_list)"
     ],
     "language": "python",
     "metadata": {},
     "outputs": [
      {
       "output_type": "stream",
       "stream": "stdout",
       "text": [
        "check feasibility: -3.08546077576e-10\n",
        "(300, 100)\n",
        "(300, 1)\n",
        "101\n",
        "101\n"
       ]
      }
     ],
     "prompt_number": 20
    },
    {
     "cell_type": "code",
     "collapsed": false,
     "input": [
      "pylab.plot(t_list,MCV_list,\"-ko\",t_list,U_list,\"-*\",t_list,0*t_list,\"-\",)"
     ],
     "language": "python",
     "metadata": {},
     "outputs": [
      {
       "metadata": {},
       "output_type": "pyout",
       "prompt_number": 21,
       "text": [
        "[<matplotlib.lines.Line2D at 0x317cc10>,\n",
        " <matplotlib.lines.Line2D at 0x317ce90>,\n",
        " <matplotlib.lines.Line2D at 0x317e590>]"
       ]
      },
      {
       "metadata": {},
       "output_type": "display_data",
       "png": "[encoded data removed]",
       "text": [
        "<matplotlib.figure.Figure at 0x32f42d0>"
       ]
      }
     ],
     "prompt_number": 21
    },
    {
     "cell_type": "code",
     "collapsed": false,
     "input": [
      "min_ix = min(np.nonzero(MCV_list<0)[0])\n",
      "print \"min_ix = \",min_ix\n",
      "print \"t_list[min_ix] = \",t_list[min_ix]\n",
      "print \"U_list[min_ix] = \",U_list[min_ix]\n",
      "print \"U_list[min_ix] -L = \",U_list[min_ix]-L"
     ],
     "language": "python",
     "metadata": {},
     "outputs": [
      {
       "output_type": "stream",
       "stream": "stdout",
       "text": [
        "min_ix =  61\n",
        "t_list[min_ix] =  0.61\n",
        "U_list[min_ix] =  -32.4450307429\n",
        "U_list[min_ix] -L =  0.722208860952\n"
       ]
      }
     ],
     "prompt_number": 22
    },
    {
     "cell_type": "code",
     "collapsed": false,
     "input": [
      "L\n"
     ],
     "language": "python",
     "metadata": {},
     "outputs": [
      {
       "metadata": {},
       "output_type": "pyout",
       "prompt_number": 23,
       "text": [
        "-33.167239603853055"
       ]
      }
     ],
     "prompt_number": 23
    },
    {
     "cell_type": "code",
     "collapsed": false,
     "input": [],
     "language": "python",
     "metadata": {},
     "outputs": [],
     "prompt_number": 23
    }
   ],
   "metadata": {}
  }
 ]
}